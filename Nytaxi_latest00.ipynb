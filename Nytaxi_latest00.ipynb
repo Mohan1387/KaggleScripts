{
 "cells": [
  {
   "cell_type": "code",
   "execution_count": 2,
   "metadata": {
    "collapsed": true
   },
   "outputs": [],
   "source": [
    "import pandas as pd\n",
    "import numpy as np"
   ]
  },
  {
   "cell_type": "code",
   "execution_count": 3,
   "metadata": {
    "collapsed": true
   },
   "outputs": [],
   "source": [
    "rawtrain = pd.read_csv(\"D:\\\\PythonSamples\\\\NYTaxi\\\\train\\\\train.csv\")"
   ]
  },
  {
   "cell_type": "code",
   "execution_count": 4,
   "metadata": {},
   "outputs": [
    {
     "data": {
      "text/plain": [
       "11"
      ]
     },
     "execution_count": 4,
     "metadata": {},
     "output_type": "execute_result"
    }
   ],
   "source": [
    "len(rawtrain.columns)"
   ]
  },
  {
   "cell_type": "code",
   "execution_count": 5,
   "metadata": {},
   "outputs": [
    {
     "data": {
      "text/plain": [
       "1458644"
      ]
     },
     "execution_count": 5,
     "metadata": {},
     "output_type": "execute_result"
    }
   ],
   "source": [
    "len(rawtrain)"
   ]
  },
  {
   "cell_type": "code",
   "execution_count": 6,
   "metadata": {},
   "outputs": [
    {
     "data": {
      "text/html": [
       "<div>\n",
       "<style>\n",
       "    .dataframe thead tr:only-child th {\n",
       "        text-align: right;\n",
       "    }\n",
       "\n",
       "    .dataframe thead th {\n",
       "        text-align: left;\n",
       "    }\n",
       "\n",
       "    .dataframe tbody tr th {\n",
       "        vertical-align: top;\n",
       "    }\n",
       "</style>\n",
       "<table border=\"1\" class=\"dataframe\">\n",
       "  <thead>\n",
       "    <tr style=\"text-align: right;\">\n",
       "      <th></th>\n",
       "      <th>vendor_id</th>\n",
       "      <th>passenger_count</th>\n",
       "      <th>pickup_longitude</th>\n",
       "      <th>pickup_latitude</th>\n",
       "      <th>dropoff_longitude</th>\n",
       "      <th>dropoff_latitude</th>\n",
       "      <th>trip_duration</th>\n",
       "    </tr>\n",
       "  </thead>\n",
       "  <tbody>\n",
       "    <tr>\n",
       "      <th>count</th>\n",
       "      <td>1.458644e+06</td>\n",
       "      <td>1.458644e+06</td>\n",
       "      <td>1.458644e+06</td>\n",
       "      <td>1.458644e+06</td>\n",
       "      <td>1.458644e+06</td>\n",
       "      <td>1.458644e+06</td>\n",
       "      <td>1.458644e+06</td>\n",
       "    </tr>\n",
       "    <tr>\n",
       "      <th>mean</th>\n",
       "      <td>1.534950e+00</td>\n",
       "      <td>1.664530e+00</td>\n",
       "      <td>-7.397349e+01</td>\n",
       "      <td>4.075092e+01</td>\n",
       "      <td>-7.397342e+01</td>\n",
       "      <td>4.075180e+01</td>\n",
       "      <td>9.594923e+02</td>\n",
       "    </tr>\n",
       "    <tr>\n",
       "      <th>std</th>\n",
       "      <td>4.987772e-01</td>\n",
       "      <td>1.314242e+00</td>\n",
       "      <td>7.090186e-02</td>\n",
       "      <td>3.288119e-02</td>\n",
       "      <td>7.064327e-02</td>\n",
       "      <td>3.589056e-02</td>\n",
       "      <td>5.237432e+03</td>\n",
       "    </tr>\n",
       "    <tr>\n",
       "      <th>min</th>\n",
       "      <td>1.000000e+00</td>\n",
       "      <td>0.000000e+00</td>\n",
       "      <td>-1.219333e+02</td>\n",
       "      <td>3.435970e+01</td>\n",
       "      <td>-1.219333e+02</td>\n",
       "      <td>3.218114e+01</td>\n",
       "      <td>1.000000e+00</td>\n",
       "    </tr>\n",
       "    <tr>\n",
       "      <th>25%</th>\n",
       "      <td>1.000000e+00</td>\n",
       "      <td>1.000000e+00</td>\n",
       "      <td>-7.399187e+01</td>\n",
       "      <td>4.073735e+01</td>\n",
       "      <td>-7.399133e+01</td>\n",
       "      <td>4.073588e+01</td>\n",
       "      <td>3.970000e+02</td>\n",
       "    </tr>\n",
       "    <tr>\n",
       "      <th>50%</th>\n",
       "      <td>2.000000e+00</td>\n",
       "      <td>1.000000e+00</td>\n",
       "      <td>-7.398174e+01</td>\n",
       "      <td>4.075410e+01</td>\n",
       "      <td>-7.397975e+01</td>\n",
       "      <td>4.075452e+01</td>\n",
       "      <td>6.620000e+02</td>\n",
       "    </tr>\n",
       "    <tr>\n",
       "      <th>75%</th>\n",
       "      <td>2.000000e+00</td>\n",
       "      <td>2.000000e+00</td>\n",
       "      <td>-7.396733e+01</td>\n",
       "      <td>4.076836e+01</td>\n",
       "      <td>-7.396301e+01</td>\n",
       "      <td>4.076981e+01</td>\n",
       "      <td>1.075000e+03</td>\n",
       "    </tr>\n",
       "    <tr>\n",
       "      <th>max</th>\n",
       "      <td>2.000000e+00</td>\n",
       "      <td>9.000000e+00</td>\n",
       "      <td>-6.133553e+01</td>\n",
       "      <td>5.188108e+01</td>\n",
       "      <td>-6.133553e+01</td>\n",
       "      <td>4.392103e+01</td>\n",
       "      <td>3.526282e+06</td>\n",
       "    </tr>\n",
       "  </tbody>\n",
       "</table>\n",
       "</div>"
      ],
      "text/plain": [
       "          vendor_id  passenger_count  pickup_longitude  pickup_latitude  \\\n",
       "count  1.458644e+06     1.458644e+06      1.458644e+06     1.458644e+06   \n",
       "mean   1.534950e+00     1.664530e+00     -7.397349e+01     4.075092e+01   \n",
       "std    4.987772e-01     1.314242e+00      7.090186e-02     3.288119e-02   \n",
       "min    1.000000e+00     0.000000e+00     -1.219333e+02     3.435970e+01   \n",
       "25%    1.000000e+00     1.000000e+00     -7.399187e+01     4.073735e+01   \n",
       "50%    2.000000e+00     1.000000e+00     -7.398174e+01     4.075410e+01   \n",
       "75%    2.000000e+00     2.000000e+00     -7.396733e+01     4.076836e+01   \n",
       "max    2.000000e+00     9.000000e+00     -6.133553e+01     5.188108e+01   \n",
       "\n",
       "       dropoff_longitude  dropoff_latitude  trip_duration  \n",
       "count       1.458644e+06      1.458644e+06   1.458644e+06  \n",
       "mean       -7.397342e+01      4.075180e+01   9.594923e+02  \n",
       "std         7.064327e-02      3.589056e-02   5.237432e+03  \n",
       "min        -1.219333e+02      3.218114e+01   1.000000e+00  \n",
       "25%        -7.399133e+01      4.073588e+01   3.970000e+02  \n",
       "50%        -7.397975e+01      4.075452e+01   6.620000e+02  \n",
       "75%        -7.396301e+01      4.076981e+01   1.075000e+03  \n",
       "max        -6.133553e+01      4.392103e+01   3.526282e+06  "
      ]
     },
     "execution_count": 6,
     "metadata": {},
     "output_type": "execute_result"
    }
   ],
   "source": [
    "rawtrain.describe()"
   ]
  },
  {
   "cell_type": "code",
   "execution_count": 7,
   "metadata": {},
   "outputs": [
    {
     "name": "stdout",
     "output_type": "stream",
     "text": [
      "<class 'pandas.core.frame.DataFrame'>\n",
      "RangeIndex: 1458644 entries, 0 to 1458643\n",
      "Data columns (total 11 columns):\n",
      "id                    1458644 non-null object\n",
      "vendor_id             1458644 non-null int64\n",
      "pickup_datetime       1458644 non-null object\n",
      "dropoff_datetime      1458644 non-null object\n",
      "passenger_count       1458644 non-null int64\n",
      "pickup_longitude      1458644 non-null float64\n",
      "pickup_latitude       1458644 non-null float64\n",
      "dropoff_longitude     1458644 non-null float64\n",
      "dropoff_latitude      1458644 non-null float64\n",
      "store_and_fwd_flag    1458644 non-null object\n",
      "trip_duration         1458644 non-null int64\n",
      "dtypes: float64(4), int64(3), object(4)\n",
      "memory usage: 122.4+ MB\n"
     ]
    }
   ],
   "source": [
    "rawtrain.info()"
   ]
  },
  {
   "cell_type": "code",
   "execution_count": 8,
   "metadata": {
    "collapsed": true
   },
   "outputs": [],
   "source": [
    "from math import sin, cos, sqrt, atan2, radians"
   ]
  },
  {
   "cell_type": "code",
   "execution_count": 9,
   "metadata": {
    "collapsed": true
   },
   "outputs": [],
   "source": [
    "def find_distance(row):# approximate radius of earth in km\n",
    "    R = 6373.0\n",
    "    lat1 = radians(abs(row['pickup_latitude']))\n",
    "    lon1 = radians(abs(row['pickup_longitude']))\n",
    "    lat2 = radians(abs(row['dropoff_latitude']))\n",
    "    lon2 = radians(abs(row['dropoff_longitude']))\n",
    "    dlon = lon2 - lon1\n",
    "    dlat = lat2 - lat1\n",
    "    a = sin(dlat / 2)**2 + cos(lat1) * cos(lat2) * sin(dlon / 2)**2\n",
    "    c = 2 * atan2(sqrt(a), sqrt(1 - a))\n",
    "    distance = R * c\n",
    "    return round(distance)\n",
    "\n",
    "def store_flag(row):\n",
    "    flags = row['store_and_fwd_flag']\n",
    "    if flags == 'N':\n",
    "        return 0\n",
    "    else:\n",
    "        return 1\n",
    "import time\n",
    "import datetime\n",
    "\n",
    "def converttime(row):\n",
    "    Pickup_time = row['pickup_datetime']\n",
    "    #  '2016-01-01 17:44:40'\n",
    "    formated_time = time.mktime(datetime.datetime.strptime(Pickup_time, \"%Y-%m-%d %H:%M:%S\").timetuple())\n",
    "    return formated_time\n",
    "\n",
    "def find_weekday(row):\n",
    "    pickuptime = row['pickup_datetime']\n",
    "    weekdays = datetime.datetime.strptime(pickuptime, \"%Y-%m-%d %H:%M:%S\").weekday()\n",
    "    if weekdays >= 5:\n",
    "        return 0\n",
    "    else:\n",
    "        return 1\n",
    "\n",
    "def find_peakhour(row):\n",
    "    pickuptime = row['pickup_datetime']\n",
    "    hourofday = datetime.datetime.strptime(pickuptime, \"%Y-%m-%d %H:%M:%S\").hour\n",
    "    peakhours = [7,8,9,16,17,18,19]\n",
    "    if hourofday in peakhours:\n",
    "        return 1\n",
    "    else:\n",
    "        return 0\n"
   ]
  },
  {
   "cell_type": "code",
   "execution_count": 10,
   "metadata": {
    "collapsed": true
   },
   "outputs": [],
   "source": [
    "rawtrain['distance'] = rawtrain.apply(find_distance,axis = 1)"
   ]
  },
  {
   "cell_type": "code",
   "execution_count": 11,
   "metadata": {
    "collapsed": true
   },
   "outputs": [],
   "source": [
    "rawtrain['weekday_end'] = rawtrain.apply(find_weekday,axis = 1)"
   ]
  },
  {
   "cell_type": "code",
   "execution_count": 12,
   "metadata": {
    "collapsed": true
   },
   "outputs": [],
   "source": [
    "rawtrain['peak_hour'] = rawtrain.apply(find_peakhour,axis = 1)"
   ]
  },
  {
   "cell_type": "code",
   "execution_count": 13,
   "metadata": {
    "collapsed": true
   },
   "outputs": [],
   "source": [
    "rawtrain['pickup_time'] = rawtrain.apply(converttime,axis = 1)"
   ]
  },
  {
   "cell_type": "code",
   "execution_count": 14,
   "metadata": {
    "collapsed": true
   },
   "outputs": [],
   "source": [
    "rawtrain['store_fwd_flag'] = rawtrain.apply(store_flag,axis = 1)"
   ]
  },
  {
   "cell_type": "code",
   "execution_count": 15,
   "metadata": {
    "collapsed": true
   },
   "outputs": [],
   "source": [
    "import matplotlib.pyplot as plt\n",
    "%matplotlib inline"
   ]
  },
  {
   "cell_type": "code",
   "execution_count": 16,
   "metadata": {},
   "outputs": [
    {
     "data": {
      "text/plain": [
       "<matplotlib.collections.PathCollection at 0x9f010eacc0>"
      ]
     },
     "execution_count": 16,
     "metadata": {},
     "output_type": "execute_result"
    },
    {
     "data": {
      "image/png": "[encoded data removed]",
      "text/plain": [
       "<matplotlib.figure.Figure at 0x9f01015ba8>"
      ]
     },
     "metadata": {},
     "output_type": "display_data"
    }
   ],
   "source": [
    "plt.scatter(rawtrain['trip_duration'],rawtrain['distance'])"
   ]
  },
  {
   "cell_type": "code",
   "execution_count": 17,
   "metadata": {},
   "outputs": [
    {
     "data": {
      "text/plain": [
       "1456521"
      ]
     },
     "execution_count": 17,
     "metadata": {},
     "output_type": "execute_result"
    }
   ],
   "source": [
    "tesing = rawtrain.loc[rawtrain['trip_duration'] <= 10000]\n",
    "len(tesing)"
   ]
  },
  {
   "cell_type": "code",
   "execution_count": 18,
   "metadata": {},
   "outputs": [
    {
     "data": {
      "text/plain": [
       "<matplotlib.collections.PathCollection at 0x9f0331e898>"
      ]
     },
     "execution_count": 18,
     "metadata": {},
     "output_type": "execute_result"
    },
    {
     "data": {
      "image/png": "[encoded data removed]",
      "text/plain": [
       "<matplotlib.figure.Figure at 0x9f0114dcc0>"
      ]
     },
     "metadata": {},
     "output_type": "display_data"
    }
   ],
   "source": [
    "plt.scatter(tesing['trip_duration'],tesing['distance'])"
   ]
  },
  {
   "cell_type": "code",
   "execution_count": 19,
   "metadata": {},
   "outputs": [
    {
     "data": {
      "text/plain": [
       "1456510"
      ]
     },
     "execution_count": 19,
     "metadata": {},
     "output_type": "execute_result"
    }
   ],
   "source": [
    "tesing = tesing.loc[tesing['distance'] <= 200]\n",
    "len(tesing)\n"
   ]
  },
  {
   "cell_type": "code",
   "execution_count": 20,
   "metadata": {},
   "outputs": [
    {
     "data": {
      "text/plain": [
       "<matplotlib.collections.PathCollection at 0x9f00032470>"
      ]
     },
     "execution_count": 20,
     "metadata": {},
     "output_type": "execute_result"
    },
    {
     "data": {
      "image/png": "[encoded data removed]",
      "text/plain": [
       "<matplotlib.figure.Figure at 0x9f01127908>"
      ]
     },
     "metadata": {},
     "output_type": "display_data"
    }
   ],
   "source": [
    "plt.scatter(tesing['trip_duration'],tesing['distance'])"
   ]
  },
  {
   "cell_type": "code",
   "execution_count": 27,
   "metadata": {},
   "outputs": [
    {
     "data": {
      "text/plain": [
       "1456462"
      ]
     },
     "execution_count": 27,
     "metadata": {},
     "output_type": "execute_result"
    }
   ],
   "source": [
    "tesing = tesing.loc[tesing['distance'] <= 60]\n",
    "len(tesing)"
   ]
  },
  {
   "cell_type": "code",
   "execution_count": 28,
   "metadata": {},
   "outputs": [
    {
     "data": {
      "text/plain": [
       "<matplotlib.collections.PathCollection at 0x9f00295b38>"
      ]
     },
     "execution_count": 28,
     "metadata": {},
     "output_type": "execute_result"
    },
    {
     "data": {
      "image/png": "[encoded data removed]",
      "text/plain": [
       "<matplotlib.figure.Figure at 0x9f00227b38>"
      ]
     },
     "metadata": {},
     "output_type": "display_data"
    }
   ],
   "source": [
    "plt.scatter(tesing['trip_duration'],tesing['distance'])"
   ]
  },
  {
   "cell_type": "code",
   "execution_count": 188,
   "metadata": {
    "collapsed": true
   },
   "outputs": [],
   "source": [
    "avg_sec_9000 = tesing.loc[(tesing['trip_duration'] > 9000) & (tesing['trip_duration'] <= 10000)]\n",
    "#avg_sec_8000 = tesing.loc[(tesing['trip_duration'] > 8000) & (tesing['trip_duration'] <= 9000)]\n",
    "#avg_sec_7000 = tesing.loc[(tesing['trip_duration'] > 7000) & (tesing['trip_duration'] <= 8000)]\n",
    "#avg_sec_6000 = tesing.loc[(tesing['trip_duration'] > 6000) & (tesing['trip_duration'] <= 7000)]\n",
    "#avg_sec_5000 = tesing.loc[(tesing['trip_duration'] > 5000) & (tesing['trip_duration'] <= 6000)]\n",
    "#avg_sec_4000 = tesing.loc[(tesing['trip_duration'] > 4000) & (tesing['trip_duration'] <= 5000)]\n",
    "#avg_sec_3000 = tesing.loc[(tesing['trip_duration'] > 3000) & (tesing['trip_duration'] <= 4000)]\n",
    "#avg_sec_2000 = tesing.loc[(tesing['trip_duration'] > 2000) & (tesing['trip_duration'] <= 3000)]\n",
    "#avg_sec_1000 = tesing.loc[(tesing['trip_duration'] > 1000) & (tesing['trip_duration'] <= 2000)]\n",
    "#avg_sec_0000 = tesing.loc[tesing['trip_duration'] <= 1000]"
   ]
  },
  {
   "cell_type": "code",
   "execution_count": 189,
   "metadata": {},
   "outputs": [
    {
     "name": "stderr",
     "output_type": "stream",
     "text": [
      "C:\\Users\\hdadmin\\Anaconda3\\lib\\site-packages\\ipykernel_launcher.py:1: SettingWithCopyWarning: \n",
      "A value is trying to be set on a copy of a slice from a DataFrame.\n",
      "Try using .loc[row_indexer,col_indexer] = value instead\n",
      "\n",
      "See the caveats in the documentation: http://pandas.pydata.org/pandas-docs/stable/indexing.html#indexing-view-versus-copy\n",
      "  \"\"\"Entry point for launching an IPython kernel.\n",
      "C:\\Users\\hdadmin\\Anaconda3\\lib\\site-packages\\ipykernel_launcher.py:2: SettingWithCopyWarning: \n",
      "A value is trying to be set on a copy of a slice from a DataFrame.\n",
      "Try using .loc[row_indexer,col_indexer] = value instead\n",
      "\n",
      "See the caveats in the documentation: http://pandas.pydata.org/pandas-docs/stable/indexing.html#indexing-view-versus-copy\n",
      "  \n",
      "C:\\Users\\hdadmin\\Anaconda3\\lib\\site-packages\\ipykernel_launcher.py:3: SettingWithCopyWarning: \n",
      "A value is trying to be set on a copy of a slice from a DataFrame.\n",
      "Try using .loc[row_indexer,col_indexer] = value instead\n",
      "\n",
      "See the caveats in the documentation: http://pandas.pydata.org/pandas-docs/stable/indexing.html#indexing-view-versus-copy\n",
      "  This is separate from the ipykernel package so we can avoid doing imports until\n",
      "C:\\Users\\hdadmin\\Anaconda3\\lib\\site-packages\\ipykernel_launcher.py:4: SettingWithCopyWarning: \n",
      "A value is trying to be set on a copy of a slice from a DataFrame.\n",
      "Try using .loc[row_indexer,col_indexer] = value instead\n",
      "\n",
      "See the caveats in the documentation: http://pandas.pydata.org/pandas-docs/stable/indexing.html#indexing-view-versus-copy\n",
      "  after removing the cwd from sys.path.\n",
      "C:\\Users\\hdadmin\\Anaconda3\\lib\\site-packages\\ipykernel_launcher.py:5: SettingWithCopyWarning: \n",
      "A value is trying to be set on a copy of a slice from a DataFrame.\n",
      "Try using .loc[row_indexer,col_indexer] = value instead\n",
      "\n",
      "See the caveats in the documentation: http://pandas.pydata.org/pandas-docs/stable/indexing.html#indexing-view-versus-copy\n",
      "  \"\"\"\n",
      "C:\\Users\\hdadmin\\Anaconda3\\lib\\site-packages\\ipykernel_launcher.py:6: SettingWithCopyWarning: \n",
      "A value is trying to be set on a copy of a slice from a DataFrame.\n",
      "Try using .loc[row_indexer,col_indexer] = value instead\n",
      "\n",
      "See the caveats in the documentation: http://pandas.pydata.org/pandas-docs/stable/indexing.html#indexing-view-versus-copy\n",
      "  \n",
      "C:\\Users\\hdadmin\\Anaconda3\\lib\\site-packages\\ipykernel_launcher.py:7: SettingWithCopyWarning: \n",
      "A value is trying to be set on a copy of a slice from a DataFrame.\n",
      "Try using .loc[row_indexer,col_indexer] = value instead\n",
      "\n",
      "See the caveats in the documentation: http://pandas.pydata.org/pandas-docs/stable/indexing.html#indexing-view-versus-copy\n",
      "  import sys\n",
      "C:\\Users\\hdadmin\\Anaconda3\\lib\\site-packages\\ipykernel_launcher.py:8: SettingWithCopyWarning: \n",
      "A value is trying to be set on a copy of a slice from a DataFrame.\n",
      "Try using .loc[row_indexer,col_indexer] = value instead\n",
      "\n",
      "See the caveats in the documentation: http://pandas.pydata.org/pandas-docs/stable/indexing.html#indexing-view-versus-copy\n",
      "  \n",
      "C:\\Users\\hdadmin\\Anaconda3\\lib\\site-packages\\ipykernel_launcher.py:9: SettingWithCopyWarning: \n",
      "A value is trying to be set on a copy of a slice from a DataFrame.\n",
      "Try using .loc[row_indexer,col_indexer] = value instead\n",
      "\n",
      "See the caveats in the documentation: http://pandas.pydata.org/pandas-docs/stable/indexing.html#indexing-view-versus-copy\n",
      "  if __name__ == '__main__':\n",
      "C:\\Users\\hdadmin\\Anaconda3\\lib\\site-packages\\ipykernel_launcher.py:10: SettingWithCopyWarning: \n",
      "A value is trying to be set on a copy of a slice from a DataFrame.\n",
      "Try using .loc[row_indexer,col_indexer] = value instead\n",
      "\n",
      "See the caveats in the documentation: http://pandas.pydata.org/pandas-docs/stable/indexing.html#indexing-view-versus-copy\n",
      "  # Remove the CWD from sys.path while we load stuff.\n"
     ]
    }
   ],
   "source": [
    "avg_sec_9000['duration_type'] = '9to10'\n",
    "avg_sec_8000['duration_type'] = '8to9'\n",
    "avg_sec_7000['duration_type'] = '7to8'\n",
    "avg_sec_6000['duration_type'] = '6to7'\n",
    "avg_sec_5000['duration_type'] = '5to6'\n",
    "avg_sec_4000['duration_type'] = '4to5'\n",
    "avg_sec_3000['duration_type'] = '3to4'\n",
    "avg_sec_2000['duration_type'] = '2to3'\n",
    "avg_sec_1000['duration_type'] = '1to2'\n",
    "avg_sec_0000['duration_type'] = '0to1'"
   ]
  },
  {
   "cell_type": "code",
   "execution_count": 190,
   "metadata": {
    "collapsed": true
   },
   "outputs": [],
   "source": [
    "def mark_dur_type(row):\n",
    "    var1 = row['duration_type']\n",
    "    if var1 == '9to10':\n",
    "        return 0.9\n",
    "    if var1 == '8to9':\n",
    "        return 0.8\n",
    "    if var1 == '7to8':\n",
    "        return 0.7\n",
    "    if var1 == '6to7':\n",
    "        return 0.6\n",
    "    if var1 == '5to6':\n",
    "        return 0.5\n",
    "    if var1 == '4to5':\n",
    "        return 0.4\n",
    "    if var1 == '3to4':\n",
    "        return 0.3\n",
    "    if var1 == '2to3':\n",
    "        return 0.2\n",
    "    if var1 == '1to2':\n",
    "        return 0.1\n",
    "    if var1 == '0to1':\n",
    "        return 0.01"
   ]
  },
  {
   "cell_type": "code",
   "execution_count": 191,
   "metadata": {},
   "outputs": [
    {
     "name": "stderr",
     "output_type": "stream",
     "text": [
      "C:\\Users\\hdadmin\\Anaconda3\\lib\\site-packages\\ipykernel_launcher.py:1: SettingWithCopyWarning: \n",
      "A value is trying to be set on a copy of a slice from a DataFrame.\n",
      "Try using .loc[row_indexer,col_indexer] = value instead\n",
      "\n",
      "See the caveats in the documentation: http://pandas.pydata.org/pandas-docs/stable/indexing.html#indexing-view-versus-copy\n",
      "  \"\"\"Entry point for launching an IPython kernel.\n"
     ]
    }
   ],
   "source": [
    "avg_sec_9000['dura_type'] =  avg_sec_9000.apply(mark_dur_type, axis = 1)"
   ]
  },
  {
   "cell_type": "code",
   "execution_count": 346,
   "metadata": {
    "collapsed": true
   },
   "outputs": [],
   "source": [
    "def find_hour(row):\n",
    "    pickuptime = row['pickup_datetime']\n",
    "    hourofday = datetime.datetime.strptime(pickuptime, \"%Y-%m-%d %H:%M:%S\").hour\n",
    "    return hourofday\n",
    "   "
   ]
  },
  {
   "cell_type": "code",
   "execution_count": 347,
   "metadata": {},
   "outputs": [
    {
     "name": "stderr",
     "output_type": "stream",
     "text": [
      "C:\\Users\\hdadmin\\Anaconda3\\lib\\site-packages\\ipykernel_launcher.py:1: SettingWithCopyWarning: \n",
      "A value is trying to be set on a copy of a slice from a DataFrame.\n",
      "Try using .loc[row_indexer,col_indexer] = value instead\n",
      "\n",
      "See the caveats in the documentation: http://pandas.pydata.org/pandas-docs/stable/indexing.html#indexing-view-versus-copy\n",
      "  \"\"\"Entry point for launching an IPython kernel.\n"
     ]
    }
   ],
   "source": [
    "avg_sec_9000['pickup_hour'] =  avg_sec_9000.apply(find_hour, axis = 1)"
   ]
  },
  {
   "cell_type": "code",
   "execution_count": 192,
   "metadata": {},
   "outputs": [
    {
     "data": {
      "text/html": [
       "<div>\n",
       "<style>\n",
       "    .dataframe thead tr:only-child th {\n",
       "        text-align: right;\n",
       "    }\n",
       "\n",
       "    .dataframe thead th {\n",
       "        text-align: left;\n",
       "    }\n",
       "\n",
       "    .dataframe tbody tr th {\n",
       "        vertical-align: top;\n",
       "    }\n",
       "</style>\n",
       "<table border=\"1\" class=\"dataframe\">\n",
       "  <thead>\n",
       "    <tr style=\"text-align: right;\">\n",
       "      <th></th>\n",
       "      <th>vendor_id</th>\n",
       "      <th>passenger_count</th>\n",
       "      <th>pickup_longitude</th>\n",
       "      <th>pickup_latitude</th>\n",
       "      <th>dropoff_longitude</th>\n",
       "      <th>dropoff_latitude</th>\n",
       "      <th>trip_duration</th>\n",
       "      <th>distance</th>\n",
       "      <th>weekday_end</th>\n",
       "      <th>peak_hour</th>\n",
       "      <th>pickup_time</th>\n",
       "      <th>store_fwd_flag</th>\n",
       "      <th>dura_type</th>\n",
       "    </tr>\n",
       "  </thead>\n",
       "  <tbody>\n",
       "    <tr>\n",
       "      <th>count</th>\n",
       "      <td>21.000000</td>\n",
       "      <td>21.000000</td>\n",
       "      <td>21.000000</td>\n",
       "      <td>21.000000</td>\n",
       "      <td>21.000000</td>\n",
       "      <td>21.000000</td>\n",
       "      <td>21.000000</td>\n",
       "      <td>21.0000</td>\n",
       "      <td>21.000000</td>\n",
       "      <td>21.000000</td>\n",
       "      <td>2.100000e+01</td>\n",
       "      <td>21.000000</td>\n",
       "      <td>2.100000e+01</td>\n",
       "    </tr>\n",
       "    <tr>\n",
       "      <th>mean</th>\n",
       "      <td>1.428571</td>\n",
       "      <td>1.571429</td>\n",
       "      <td>-73.857745</td>\n",
       "      <td>40.692193</td>\n",
       "      <td>-73.940367</td>\n",
       "      <td>40.721232</td>\n",
       "      <td>9393.761905</td>\n",
       "      <td>12.0000</td>\n",
       "      <td>0.571429</td>\n",
       "      <td>0.380952</td>\n",
       "      <td>1.460827e+09</td>\n",
       "      <td>0.047619</td>\n",
       "      <td>9.000000e-01</td>\n",
       "    </tr>\n",
       "    <tr>\n",
       "      <th>std</th>\n",
       "      <td>0.507093</td>\n",
       "      <td>1.121224</td>\n",
       "      <td>0.093745</td>\n",
       "      <td>0.056151</td>\n",
       "      <td>0.089108</td>\n",
       "      <td>0.043336</td>\n",
       "      <td>282.232157</td>\n",
       "      <td>9.2358</td>\n",
       "      <td>0.507093</td>\n",
       "      <td>0.497613</td>\n",
       "      <td>3.597997e+06</td>\n",
       "      <td>0.218218</td>\n",
       "      <td>1.137640e-16</td>\n",
       "    </tr>\n",
       "    <tr>\n",
       "      <th>min</th>\n",
       "      <td>1.000000</td>\n",
       "      <td>1.000000</td>\n",
       "      <td>-73.996986</td>\n",
       "      <td>40.643745</td>\n",
       "      <td>-74.029587</td>\n",
       "      <td>40.644341</td>\n",
       "      <td>9009.000000</td>\n",
       "      <td>0.0000</td>\n",
       "      <td>0.000000</td>\n",
       "      <td>0.000000</td>\n",
       "      <td>1.454736e+09</td>\n",
       "      <td>0.000000</td>\n",
       "      <td>9.000000e-01</td>\n",
       "    </tr>\n",
       "    <tr>\n",
       "      <th>25%</th>\n",
       "      <td>1.000000</td>\n",
       "      <td>1.000000</td>\n",
       "      <td>-73.973656</td>\n",
       "      <td>40.645233</td>\n",
       "      <td>-73.991829</td>\n",
       "      <td>40.702629</td>\n",
       "      <td>9172.000000</td>\n",
       "      <td>2.0000</td>\n",
       "      <td>0.000000</td>\n",
       "      <td>0.000000</td>\n",
       "      <td>1.457440e+09</td>\n",
       "      <td>0.000000</td>\n",
       "      <td>9.000000e-01</td>\n",
       "    </tr>\n",
       "    <tr>\n",
       "      <th>50%</th>\n",
       "      <td>1.000000</td>\n",
       "      <td>1.000000</td>\n",
       "      <td>-73.790184</td>\n",
       "      <td>40.646954</td>\n",
       "      <td>-73.985306</td>\n",
       "      <td>40.743465</td>\n",
       "      <td>9310.000000</td>\n",
       "      <td>16.0000</td>\n",
       "      <td>1.000000</td>\n",
       "      <td>0.000000</td>\n",
       "      <td>1.462469e+09</td>\n",
       "      <td>0.000000</td>\n",
       "      <td>9.000000e-01</td>\n",
       "    </tr>\n",
       "    <tr>\n",
       "      <th>75%</th>\n",
       "      <td>2.000000</td>\n",
       "      <td>2.000000</td>\n",
       "      <td>-73.782188</td>\n",
       "      <td>40.755276</td>\n",
       "      <td>-73.955772</td>\n",
       "      <td>40.756191</td>\n",
       "      <td>9581.000000</td>\n",
       "      <td>20.0000</td>\n",
       "      <td>1.000000</td>\n",
       "      <td>1.000000</td>\n",
       "      <td>1.463318e+09</td>\n",
       "      <td>0.000000</td>\n",
       "      <td>9.000000e-01</td>\n",
       "    </tr>\n",
       "    <tr>\n",
       "      <th>max</th>\n",
       "      <td>2.000000</td>\n",
       "      <td>5.000000</td>\n",
       "      <td>-73.776787</td>\n",
       "      <td>40.769566</td>\n",
       "      <td>-73.781960</td>\n",
       "      <td>40.763916</td>\n",
       "      <td>9984.000000</td>\n",
       "      <td>24.0000</td>\n",
       "      <td>1.000000</td>\n",
       "      <td>1.000000</td>\n",
       "      <td>1.466616e+09</td>\n",
       "      <td>1.000000</td>\n",
       "      <td>9.000000e-01</td>\n",
       "    </tr>\n",
       "  </tbody>\n",
       "</table>\n",
       "</div>"
      ],
      "text/plain": [
       "       vendor_id  passenger_count  pickup_longitude  pickup_latitude  \\\n",
       "count  21.000000        21.000000         21.000000        21.000000   \n",
       "mean    1.428571         1.571429        -73.857745        40.692193   \n",
       "std     0.507093         1.121224          0.093745         0.056151   \n",
       "min     1.000000         1.000000        -73.996986        40.643745   \n",
       "25%     1.000000         1.000000        -73.973656        40.645233   \n",
       "50%     1.000000         1.000000        -73.790184        40.646954   \n",
       "75%     2.000000         2.000000        -73.782188        40.755276   \n",
       "max     2.000000         5.000000        -73.776787        40.769566   \n",
       "\n",
       "       dropoff_longitude  dropoff_latitude  trip_duration  distance  \\\n",
       "count          21.000000         21.000000      21.000000   21.0000   \n",
       "mean          -73.940367         40.721232    9393.761905   12.0000   \n",
       "std             0.089108          0.043336     282.232157    9.2358   \n",
       "min           -74.029587         40.644341    9009.000000    0.0000   \n",
       "25%           -73.991829         40.702629    9172.000000    2.0000   \n",
       "50%           -73.985306         40.743465    9310.000000   16.0000   \n",
       "75%           -73.955772         40.756191    9581.000000   20.0000   \n",
       "max           -73.781960         40.763916    9984.000000   24.0000   \n",
       "\n",
       "       weekday_end  peak_hour   pickup_time  store_fwd_flag     dura_type  \n",
       "count    21.000000  21.000000  2.100000e+01       21.000000  2.100000e+01  \n",
       "mean      0.571429   0.380952  1.460827e+09        0.047619  9.000000e-01  \n",
       "std       0.507093   0.497613  3.597997e+06        0.218218  1.137640e-16  \n",
       "min       0.000000   0.000000  1.454736e+09        0.000000  9.000000e-01  \n",
       "25%       0.000000   0.000000  1.457440e+09        0.000000  9.000000e-01  \n",
       "50%       1.000000   0.000000  1.462469e+09        0.000000  9.000000e-01  \n",
       "75%       1.000000   1.000000  1.463318e+09        0.000000  9.000000e-01  \n",
       "max       1.000000   1.000000  1.466616e+09        1.000000  9.000000e-01  "
      ]
     },
     "execution_count": 192,
     "metadata": {},
     "output_type": "execute_result"
    }
   ],
   "source": [
    "avg_sec_9000.describe()"
   ]
  },
  {
   "cell_type": "code",
   "execution_count": 196,
   "metadata": {},
   "outputs": [
    {
     "name": "stderr",
     "output_type": "stream",
     "text": [
      "C:\\Users\\hdadmin\\Anaconda3\\lib\\site-packages\\sklearn\\utils\\validation.py:429: DataConversionWarning: Data with input dtype int64 was converted to float64 by MinMaxScaler.\n",
      "  warnings.warn(msg, _DataConversionWarning)\n",
      "C:\\Users\\hdadmin\\Anaconda3\\lib\\site-packages\\sklearn\\preprocessing\\data.py:321: DeprecationWarning: Passing 1d arrays as data is deprecated in 0.17 and will raise ValueError in 0.19. Reshape your data either using X.reshape(-1, 1) if your data has a single feature or X.reshape(1, -1) if it contains a single sample.\n",
      "  warnings.warn(DEPRECATION_MSG_1D, DeprecationWarning)\n",
      "C:\\Users\\hdadmin\\Anaconda3\\lib\\site-packages\\sklearn\\preprocessing\\data.py:356: DeprecationWarning: Passing 1d arrays as data is deprecated in 0.17 and will raise ValueError in 0.19. Reshape your data either using X.reshape(-1, 1) if your data has a single feature or X.reshape(1, -1) if it contains a single sample.\n",
      "  warnings.warn(DEPRECATION_MSG_1D, DeprecationWarning)\n",
      "C:\\Users\\hdadmin\\Anaconda3\\lib\\site-packages\\ipykernel_launcher.py:5: SettingWithCopyWarning: \n",
      "A value is trying to be set on a copy of a slice from a DataFrame.\n",
      "Try using .loc[row_indexer,col_indexer] = value instead\n",
      "\n",
      "See the caveats in the documentation: http://pandas.pydata.org/pandas-docs/stable/indexing.html#indexing-view-versus-copy\n",
      "  \"\"\"\n"
     ]
    }
   ],
   "source": [
    "from sklearn.preprocessing import MinMaxScaler\n",
    "\n",
    "scaler = MinMaxScaler(feature_range=(1, 10))\n",
    "rescale = scaler.fit(avg_sec_9000['distance'])\n",
    "avg_sec_9000['scaled_dist'] = scaler.transform(avg_sec_9000['distance'])\n"
   ]
  },
  {
   "cell_type": "code",
   "execution_count": 195,
   "metadata": {},
   "outputs": [
    {
     "data": {
      "text/plain": [
       "array([  7.   ,   8.125,   8.875,   2.5  ,   8.5  ,   1.   ,   8.875,\n",
       "        10.   ,   1.375,   5.125,   1.375,   1.375,   1.   ,   8.875,\n",
       "         1.75 ,   8.5  ,   4.   ,   1.75 ,   8.125,   8.5  ,   8.875])"
      ]
     },
     "execution_count": 195,
     "metadata": {},
     "output_type": "execute_result"
    }
   ],
   "source": [
    "rescale"
   ]
  },
  {
   "cell_type": "code",
   "execution_count": 348,
   "metadata": {},
   "outputs": [
    {
     "data": {
      "text/html": [
       "<div>\n",
       "<style>\n",
       "    .dataframe thead tr:only-child th {\n",
       "        text-align: right;\n",
       "    }\n",
       "\n",
       "    .dataframe thead th {\n",
       "        text-align: left;\n",
       "    }\n",
       "\n",
       "    .dataframe tbody tr th {\n",
       "        vertical-align: top;\n",
       "    }\n",
       "</style>\n",
       "<table border=\"1\" class=\"dataframe\">\n",
       "  <thead>\n",
       "    <tr style=\"text-align: right;\">\n",
       "      <th></th>\n",
       "      <th>id</th>\n",
       "      <th>vendor_id</th>\n",
       "      <th>pickup_datetime</th>\n",
       "      <th>dropoff_datetime</th>\n",
       "      <th>passenger_count</th>\n",
       "      <th>pickup_longitude</th>\n",
       "      <th>pickup_latitude</th>\n",
       "      <th>dropoff_longitude</th>\n",
       "      <th>dropoff_latitude</th>\n",
       "      <th>store_and_fwd_flag</th>\n",
       "      <th>trip_duration</th>\n",
       "      <th>distance</th>\n",
       "      <th>weekday_end</th>\n",
       "      <th>peak_hour</th>\n",
       "      <th>pickup_time</th>\n",
       "      <th>store_fwd_flag</th>\n",
       "      <th>duration_type</th>\n",
       "      <th>dura_type</th>\n",
       "      <th>scaled_dist</th>\n",
       "      <th>pickup_hour</th>\n",
       "    </tr>\n",
       "  </thead>\n",
       "  <tbody>\n",
       "    <tr>\n",
       "      <th>259713</th>\n",
       "      <td>id1357675</td>\n",
       "      <td>1</td>\n",
       "      <td>2016-04-15 17:49:41</td>\n",
       "      <td>2016-04-15 20:35:03</td>\n",
       "      <td>4</td>\n",
       "      <td>-73.782234</td>\n",
       "      <td>40.644501</td>\n",
       "      <td>-74.029587</td>\n",
       "      <td>40.747803</td>\n",
       "      <td>N</td>\n",
       "      <td>9922</td>\n",
       "      <td>24</td>\n",
       "      <td>1</td>\n",
       "      <td>1</td>\n",
       "      <td>1.460728e+09</td>\n",
       "      <td>0</td>\n",
       "      <td>9to10</td>\n",
       "      <td>0.9</td>\n",
       "      <td>10.000</td>\n",
       "      <td>17</td>\n",
       "    </tr>\n",
       "    <tr>\n",
       "      <th>1270767</th>\n",
       "      <td>id3002319</td>\n",
       "      <td>2</td>\n",
       "      <td>2016-03-13 11:47:15</td>\n",
       "      <td>2016-03-13 14:26:55</td>\n",
       "      <td>1</td>\n",
       "      <td>-73.781769</td>\n",
       "      <td>40.644730</td>\n",
       "      <td>-73.981133</td>\n",
       "      <td>40.756191</td>\n",
       "      <td>N</td>\n",
       "      <td>9580</td>\n",
       "      <td>21</td>\n",
       "      <td>0</td>\n",
       "      <td>0</td>\n",
       "      <td>1.457855e+09</td>\n",
       "      <td>0</td>\n",
       "      <td>9to10</td>\n",
       "      <td>0.9</td>\n",
       "      <td>8.875</td>\n",
       "      <td>11</td>\n",
       "    </tr>\n",
       "    <tr>\n",
       "      <th>114196</th>\n",
       "      <td>id1948130</td>\n",
       "      <td>1</td>\n",
       "      <td>2016-05-15 15:31:55</td>\n",
       "      <td>2016-05-15 18:05:52</td>\n",
       "      <td>1</td>\n",
       "      <td>-73.780426</td>\n",
       "      <td>40.645290</td>\n",
       "      <td>-74.014984</td>\n",
       "      <td>40.709248</td>\n",
       "      <td>N</td>\n",
       "      <td>9237</td>\n",
       "      <td>21</td>\n",
       "      <td>0</td>\n",
       "      <td>0</td>\n",
       "      <td>1.463312e+09</td>\n",
       "      <td>0</td>\n",
       "      <td>9to10</td>\n",
       "      <td>0.9</td>\n",
       "      <td>8.875</td>\n",
       "      <td>15</td>\n",
       "    </tr>\n",
       "    <tr>\n",
       "      <th>230581</th>\n",
       "      <td>id1628821</td>\n",
       "      <td>1</td>\n",
       "      <td>2016-05-15 17:16:32</td>\n",
       "      <td>2016-05-15 19:57:48</td>\n",
       "      <td>1</td>\n",
       "      <td>-73.783203</td>\n",
       "      <td>40.648609</td>\n",
       "      <td>-73.992882</td>\n",
       "      <td>40.756882</td>\n",
       "      <td>N</td>\n",
       "      <td>9676</td>\n",
       "      <td>21</td>\n",
       "      <td>0</td>\n",
       "      <td>1</td>\n",
       "      <td>1.463318e+09</td>\n",
       "      <td>0</td>\n",
       "      <td>9to10</td>\n",
       "      <td>0.9</td>\n",
       "      <td>8.875</td>\n",
       "      <td>17</td>\n",
       "    </tr>\n",
       "    <tr>\n",
       "      <th>821202</th>\n",
       "      <td>id3602082</td>\n",
       "      <td>1</td>\n",
       "      <td>2016-02-06 09:11:42</td>\n",
       "      <td>2016-02-06 11:44:17</td>\n",
       "      <td>1</td>\n",
       "      <td>-73.790184</td>\n",
       "      <td>40.646881</td>\n",
       "      <td>-73.989380</td>\n",
       "      <td>40.760166</td>\n",
       "      <td>N</td>\n",
       "      <td>9155</td>\n",
       "      <td>21</td>\n",
       "      <td>0</td>\n",
       "      <td>1</td>\n",
       "      <td>1.454736e+09</td>\n",
       "      <td>0</td>\n",
       "      <td>9to10</td>\n",
       "      <td>0.9</td>\n",
       "      <td>8.875</td>\n",
       "      <td>9</td>\n",
       "    </tr>\n",
       "    <tr>\n",
       "      <th>1161741</th>\n",
       "      <td>id1918195</td>\n",
       "      <td>1</td>\n",
       "      <td>2016-05-15 17:34:33</td>\n",
       "      <td>2016-05-15 20:09:43</td>\n",
       "      <td>2</td>\n",
       "      <td>-73.777390</td>\n",
       "      <td>40.646591</td>\n",
       "      <td>-73.985306</td>\n",
       "      <td>40.730000</td>\n",
       "      <td>N</td>\n",
       "      <td>9310</td>\n",
       "      <td>20</td>\n",
       "      <td>0</td>\n",
       "      <td>1</td>\n",
       "      <td>1.463319e+09</td>\n",
       "      <td>0</td>\n",
       "      <td>9to10</td>\n",
       "      <td>0.9</td>\n",
       "      <td>8.500</td>\n",
       "      <td>17</td>\n",
       "    </tr>\n",
       "    <tr>\n",
       "      <th>133723</th>\n",
       "      <td>id0930106</td>\n",
       "      <td>2</td>\n",
       "      <td>2016-02-29 12:54:31</td>\n",
       "      <td>2016-02-29 15:27:23</td>\n",
       "      <td>1</td>\n",
       "      <td>-73.791573</td>\n",
       "      <td>40.645233</td>\n",
       "      <td>-73.991829</td>\n",
       "      <td>40.746456</td>\n",
       "      <td>N</td>\n",
       "      <td>9172</td>\n",
       "      <td>20</td>\n",
       "      <td>1</td>\n",
       "      <td>0</td>\n",
       "      <td>1.456736e+09</td>\n",
       "      <td>0</td>\n",
       "      <td>9to10</td>\n",
       "      <td>0.9</td>\n",
       "      <td>8.500</td>\n",
       "      <td>12</td>\n",
       "    </tr>\n",
       "    <tr>\n",
       "      <th>1049365</th>\n",
       "      <td>id1718005</td>\n",
       "      <td>2</td>\n",
       "      <td>2016-04-07 14:42:52</td>\n",
       "      <td>2016-04-07 17:15:11</td>\n",
       "      <td>5</td>\n",
       "      <td>-73.976898</td>\n",
       "      <td>40.764439</td>\n",
       "      <td>-73.790459</td>\n",
       "      <td>40.654259</td>\n",
       "      <td>N</td>\n",
       "      <td>9139</td>\n",
       "      <td>20</td>\n",
       "      <td>1</td>\n",
       "      <td>0</td>\n",
       "      <td>1.460026e+09</td>\n",
       "      <td>0</td>\n",
       "      <td>9to10</td>\n",
       "      <td>0.9</td>\n",
       "      <td>8.500</td>\n",
       "      <td>14</td>\n",
       "    </tr>\n",
       "    <tr>\n",
       "      <th>96988</th>\n",
       "      <td>id0951735</td>\n",
       "      <td>1</td>\n",
       "      <td>2016-05-15 15:04:23</td>\n",
       "      <td>2016-05-15 17:46:17</td>\n",
       "      <td>1</td>\n",
       "      <td>-73.789658</td>\n",
       "      <td>40.646954</td>\n",
       "      <td>-73.993774</td>\n",
       "      <td>40.720768</td>\n",
       "      <td>N</td>\n",
       "      <td>9714</td>\n",
       "      <td>19</td>\n",
       "      <td>0</td>\n",
       "      <td>0</td>\n",
       "      <td>1.463310e+09</td>\n",
       "      <td>0</td>\n",
       "      <td>9to10</td>\n",
       "      <td>0.9</td>\n",
       "      <td>8.125</td>\n",
       "      <td>15</td>\n",
       "    </tr>\n",
       "    <tr>\n",
       "      <th>1135020</th>\n",
       "      <td>id2775008</td>\n",
       "      <td>1</td>\n",
       "      <td>2016-05-09 13:41:30</td>\n",
       "      <td>2016-05-09 16:27:54</td>\n",
       "      <td>1</td>\n",
       "      <td>-73.973389</td>\n",
       "      <td>40.758347</td>\n",
       "      <td>-73.794540</td>\n",
       "      <td>40.656563</td>\n",
       "      <td>Y</td>\n",
       "      <td>9984</td>\n",
       "      <td>19</td>\n",
       "      <td>1</td>\n",
       "      <td>0</td>\n",
       "      <td>1.462787e+09</td>\n",
       "      <td>1</td>\n",
       "      <td>9to10</td>\n",
       "      <td>0.9</td>\n",
       "      <td>8.125</td>\n",
       "      <td>13</td>\n",
       "    </tr>\n",
       "    <tr>\n",
       "      <th>66718</th>\n",
       "      <td>id0551003</td>\n",
       "      <td>2</td>\n",
       "      <td>2016-05-05 21:22:29</td>\n",
       "      <td>2016-05-06 00:00:00</td>\n",
       "      <td>1</td>\n",
       "      <td>-73.782188</td>\n",
       "      <td>40.644508</td>\n",
       "      <td>-73.957550</td>\n",
       "      <td>40.702629</td>\n",
       "      <td>N</td>\n",
       "      <td>9451</td>\n",
       "      <td>16</td>\n",
       "      <td>1</td>\n",
       "      <td>0</td>\n",
       "      <td>1.462469e+09</td>\n",
       "      <td>0</td>\n",
       "      <td>9to10</td>\n",
       "      <td>0.9</td>\n",
       "      <td>7.000</td>\n",
       "      <td>21</td>\n",
       "    </tr>\n",
       "    <tr>\n",
       "      <th>380093</th>\n",
       "      <td>id1922138</td>\n",
       "      <td>1</td>\n",
       "      <td>2016-05-12 18:34:18</td>\n",
       "      <td>2016-05-12 21:08:01</td>\n",
       "      <td>1</td>\n",
       "      <td>-73.862991</td>\n",
       "      <td>40.769566</td>\n",
       "      <td>-73.988274</td>\n",
       "      <td>40.743465</td>\n",
       "      <td>N</td>\n",
       "      <td>9223</td>\n",
       "      <td>11</td>\n",
       "      <td>1</td>\n",
       "      <td>1</td>\n",
       "      <td>1.463064e+09</td>\n",
       "      <td>0</td>\n",
       "      <td>9to10</td>\n",
       "      <td>0.9</td>\n",
       "      <td>5.125</td>\n",
       "      <td>18</td>\n",
       "    </tr>\n",
       "    <tr>\n",
       "      <th>1108146</th>\n",
       "      <td>id3790609</td>\n",
       "      <td>2</td>\n",
       "      <td>2016-02-25 09:28:43</td>\n",
       "      <td>2016-02-25 12:01:07</td>\n",
       "      <td>1</td>\n",
       "      <td>-73.862701</td>\n",
       "      <td>40.768867</td>\n",
       "      <td>-73.955772</td>\n",
       "      <td>40.763916</td>\n",
       "      <td>N</td>\n",
       "      <td>9144</td>\n",
       "      <td>8</td>\n",
       "      <td>1</td>\n",
       "      <td>1</td>\n",
       "      <td>1.456378e+09</td>\n",
       "      <td>0</td>\n",
       "      <td>9to10</td>\n",
       "      <td>0.9</td>\n",
       "      <td>4.000</td>\n",
       "      <td>9</td>\n",
       "    </tr>\n",
       "    <tr>\n",
       "      <th>130934</th>\n",
       "      <td>id1053863</td>\n",
       "      <td>2</td>\n",
       "      <td>2016-06-22 21:20:19</td>\n",
       "      <td>2016-06-23 00:00:00</td>\n",
       "      <td>1</td>\n",
       "      <td>-73.996986</td>\n",
       "      <td>40.714603</td>\n",
       "      <td>-73.982162</td>\n",
       "      <td>40.745693</td>\n",
       "      <td>N</td>\n",
       "      <td>9581</td>\n",
       "      <td>4</td>\n",
       "      <td>1</td>\n",
       "      <td>0</td>\n",
       "      <td>1.466616e+09</td>\n",
       "      <td>0</td>\n",
       "      <td>9to10</td>\n",
       "      <td>0.9</td>\n",
       "      <td>2.500</td>\n",
       "      <td>21</td>\n",
       "    </tr>\n",
       "    <tr>\n",
       "      <th>1023993</th>\n",
       "      <td>id3986943</td>\n",
       "      <td>1</td>\n",
       "      <td>2016-02-15 14:33:17</td>\n",
       "      <td>2016-02-15 17:03:48</td>\n",
       "      <td>2</td>\n",
       "      <td>-73.985504</td>\n",
       "      <td>40.755276</td>\n",
       "      <td>-73.985580</td>\n",
       "      <td>40.733437</td>\n",
       "      <td>N</td>\n",
       "      <td>9031</td>\n",
       "      <td>2</td>\n",
       "      <td>1</td>\n",
       "      <td>0</td>\n",
       "      <td>1.455532e+09</td>\n",
       "      <td>0</td>\n",
       "      <td>9to10</td>\n",
       "      <td>0.9</td>\n",
       "      <td>1.750</td>\n",
       "      <td>14</td>\n",
       "    </tr>\n",
       "    <tr>\n",
       "      <th>1111840</th>\n",
       "      <td>id2641500</td>\n",
       "      <td>2</td>\n",
       "      <td>2016-05-27 13:00:58</td>\n",
       "      <td>2016-05-27 15:34:16</td>\n",
       "      <td>1</td>\n",
       "      <td>-73.973656</td>\n",
       "      <td>40.747971</td>\n",
       "      <td>-73.991920</td>\n",
       "      <td>40.750164</td>\n",
       "      <td>N</td>\n",
       "      <td>9198</td>\n",
       "      <td>2</td>\n",
       "      <td>1</td>\n",
       "      <td>0</td>\n",
       "      <td>1.464340e+09</td>\n",
       "      <td>0</td>\n",
       "      <td>9to10</td>\n",
       "      <td>0.9</td>\n",
       "      <td>1.750</td>\n",
       "      <td>13</td>\n",
       "    </tr>\n",
       "    <tr>\n",
       "      <th>455545</th>\n",
       "      <td>id2257602</td>\n",
       "      <td>2</td>\n",
       "      <td>2016-05-16 16:15:59</td>\n",
       "      <td>2016-05-16 18:46:08</td>\n",
       "      <td>1</td>\n",
       "      <td>-73.989525</td>\n",
       "      <td>40.748833</td>\n",
       "      <td>-73.986877</td>\n",
       "      <td>40.761349</td>\n",
       "      <td>N</td>\n",
       "      <td>9009</td>\n",
       "      <td>1</td>\n",
       "      <td>1</td>\n",
       "      <td>1</td>\n",
       "      <td>1.463401e+09</td>\n",
       "      <td>0</td>\n",
       "      <td>9to10</td>\n",
       "      <td>0.9</td>\n",
       "      <td>1.375</td>\n",
       "      <td>16</td>\n",
       "    </tr>\n",
       "    <tr>\n",
       "      <th>320154</th>\n",
       "      <td>id2697091</td>\n",
       "      <td>1</td>\n",
       "      <td>2016-03-20 13:57:36</td>\n",
       "      <td>2016-03-20 16:37:52</td>\n",
       "      <td>1</td>\n",
       "      <td>-73.789803</td>\n",
       "      <td>40.643745</td>\n",
       "      <td>-73.786392</td>\n",
       "      <td>40.652634</td>\n",
       "      <td>N</td>\n",
       "      <td>9616</td>\n",
       "      <td>1</td>\n",
       "      <td>0</td>\n",
       "      <td>0</td>\n",
       "      <td>1.458468e+09</td>\n",
       "      <td>0</td>\n",
       "      <td>9to10</td>\n",
       "      <td>0.9</td>\n",
       "      <td>1.375</td>\n",
       "      <td>13</td>\n",
       "    </tr>\n",
       "    <tr>\n",
       "      <th>453456</th>\n",
       "      <td>id1202709</td>\n",
       "      <td>1</td>\n",
       "      <td>2016-03-08 16:19:22</td>\n",
       "      <td>2016-03-08 18:57:04</td>\n",
       "      <td>2</td>\n",
       "      <td>-73.776787</td>\n",
       "      <td>40.645424</td>\n",
       "      <td>-73.782364</td>\n",
       "      <td>40.648754</td>\n",
       "      <td>N</td>\n",
       "      <td>9462</td>\n",
       "      <td>1</td>\n",
       "      <td>1</td>\n",
       "      <td>1</td>\n",
       "      <td>1.457440e+09</td>\n",
       "      <td>0</td>\n",
       "      <td>9to10</td>\n",
       "      <td>0.9</td>\n",
       "      <td>1.375</td>\n",
       "      <td>16</td>\n",
       "    </tr>\n",
       "    <tr>\n",
       "      <th>614173</th>\n",
       "      <td>id1323973</td>\n",
       "      <td>2</td>\n",
       "      <td>2016-03-06 21:00:12</td>\n",
       "      <td>2016-03-06 23:38:00</td>\n",
       "      <td>1</td>\n",
       "      <td>-73.983978</td>\n",
       "      <td>40.760941</td>\n",
       "      <td>-73.984978</td>\n",
       "      <td>40.761162</td>\n",
       "      <td>N</td>\n",
       "      <td>9468</td>\n",
       "      <td>0</td>\n",
       "      <td>0</td>\n",
       "      <td>0</td>\n",
       "      <td>1.457284e+09</td>\n",
       "      <td>0</td>\n",
       "      <td>9to10</td>\n",
       "      <td>0.9</td>\n",
       "      <td>1.000</td>\n",
       "      <td>21</td>\n",
       "    </tr>\n",
       "    <tr>\n",
       "      <th>137848</th>\n",
       "      <td>id2041668</td>\n",
       "      <td>1</td>\n",
       "      <td>2016-06-18 15:10:37</td>\n",
       "      <td>2016-06-18 17:43:54</td>\n",
       "      <td>3</td>\n",
       "      <td>-73.781799</td>\n",
       "      <td>40.644741</td>\n",
       "      <td>-73.781960</td>\n",
       "      <td>40.644341</td>\n",
       "      <td>N</td>\n",
       "      <td>9197</td>\n",
       "      <td>0</td>\n",
       "      <td>0</td>\n",
       "      <td>0</td>\n",
       "      <td>1.466248e+09</td>\n",
       "      <td>0</td>\n",
       "      <td>9to10</td>\n",
       "      <td>0.9</td>\n",
       "      <td>1.000</td>\n",
       "      <td>15</td>\n",
       "    </tr>\n",
       "  </tbody>\n",
       "</table>\n",
       "</div>"
      ],
      "text/plain": [
       "                id  vendor_id      pickup_datetime     dropoff_datetime  \\\n",
       "259713   id1357675          1  2016-04-15 17:49:41  2016-04-15 20:35:03   \n",
       "1270767  id3002319          2  2016-03-13 11:47:15  2016-03-13 14:26:55   \n",
       "114196   id1948130          1  2016-05-15 15:31:55  2016-05-15 18:05:52   \n",
       "230581   id1628821          1  2016-05-15 17:16:32  2016-05-15 19:57:48   \n",
       "821202   id3602082          1  2016-02-06 09:11:42  2016-02-06 11:44:17   \n",
       "1161741  id1918195          1  2016-05-15 17:34:33  2016-05-15 20:09:43   \n",
       "133723   id0930106          2  2016-02-29 12:54:31  2016-02-29 15:27:23   \n",
       "1049365  id1718005          2  2016-04-07 14:42:52  2016-04-07 17:15:11   \n",
       "96988    id0951735          1  2016-05-15 15:04:23  2016-05-15 17:46:17   \n",
       "1135020  id2775008          1  2016-05-09 13:41:30  2016-05-09 16:27:54   \n",
       "66718    id0551003          2  2016-05-05 21:22:29  2016-05-06 00:00:00   \n",
       "380093   id1922138          1  2016-05-12 18:34:18  2016-05-12 21:08:01   \n",
       "1108146  id3790609          2  2016-02-25 09:28:43  2016-02-25 12:01:07   \n",
       "130934   id1053863          2  2016-06-22 21:20:19  2016-06-23 00:00:00   \n",
       "1023993  id3986943          1  2016-02-15 14:33:17  2016-02-15 17:03:48   \n",
       "1111840  id2641500          2  2016-05-27 13:00:58  2016-05-27 15:34:16   \n",
       "455545   id2257602          2  2016-05-16 16:15:59  2016-05-16 18:46:08   \n",
       "320154   id2697091          1  2016-03-20 13:57:36  2016-03-20 16:37:52   \n",
       "453456   id1202709          1  2016-03-08 16:19:22  2016-03-08 18:57:04   \n",
       "614173   id1323973          2  2016-03-06 21:00:12  2016-03-06 23:38:00   \n",
       "137848   id2041668          1  2016-06-18 15:10:37  2016-06-18 17:43:54   \n",
       "\n",
       "         passenger_count  pickup_longitude  pickup_latitude  \\\n",
       "259713                 4        -73.782234        40.644501   \n",
       "1270767                1        -73.781769        40.644730   \n",
       "114196                 1        -73.780426        40.645290   \n",
       "230581                 1        -73.783203        40.648609   \n",
       "821202                 1        -73.790184        40.646881   \n",
       "1161741                2        -73.777390        40.646591   \n",
       "133723                 1        -73.791573        40.645233   \n",
       "1049365                5        -73.976898        40.764439   \n",
       "96988                  1        -73.789658        40.646954   \n",
       "1135020                1        -73.973389        40.758347   \n",
       "66718                  1        -73.782188        40.644508   \n",
       "380093                 1        -73.862991        40.769566   \n",
       "1108146                1        -73.862701        40.768867   \n",
       "130934                 1        -73.996986        40.714603   \n",
       "1023993                2        -73.985504        40.755276   \n",
       "1111840                1        -73.973656        40.747971   \n",
       "455545                 1        -73.989525        40.748833   \n",
       "320154                 1        -73.789803        40.643745   \n",
       "453456                 2        -73.776787        40.645424   \n",
       "614173                 1        -73.983978        40.760941   \n",
       "137848                 3        -73.781799        40.644741   \n",
       "\n",
       "         dropoff_longitude  dropoff_latitude store_and_fwd_flag  \\\n",
       "259713          -74.029587         40.747803                  N   \n",
       "1270767         -73.981133         40.756191                  N   \n",
       "114196          -74.014984         40.709248                  N   \n",
       "230581          -73.992882         40.756882                  N   \n",
       "821202          -73.989380         40.760166                  N   \n",
       "1161741         -73.985306         40.730000                  N   \n",
       "133723          -73.991829         40.746456                  N   \n",
       "1049365         -73.790459         40.654259                  N   \n",
       "96988           -73.993774         40.720768                  N   \n",
       "1135020         -73.794540         40.656563                  Y   \n",
       "66718           -73.957550         40.702629                  N   \n",
       "380093          -73.988274         40.743465                  N   \n",
       "1108146         -73.955772         40.763916                  N   \n",
       "130934          -73.982162         40.745693                  N   \n",
       "1023993         -73.985580         40.733437                  N   \n",
       "1111840         -73.991920         40.750164                  N   \n",
       "455545          -73.986877         40.761349                  N   \n",
       "320154          -73.786392         40.652634                  N   \n",
       "453456          -73.782364         40.648754                  N   \n",
       "614173          -73.984978         40.761162                  N   \n",
       "137848          -73.781960         40.644341                  N   \n",
       "\n",
       "         trip_duration  distance  weekday_end  peak_hour   pickup_time  \\\n",
       "259713            9922        24            1          1  1.460728e+09   \n",
       "1270767           9580        21            0          0  1.457855e+09   \n",
       "114196            9237        21            0          0  1.463312e+09   \n",
       "230581            9676        21            0          1  1.463318e+09   \n",
       "821202            9155        21            0          1  1.454736e+09   \n",
       "1161741           9310        20            0          1  1.463319e+09   \n",
       "133723            9172        20            1          0  1.456736e+09   \n",
       "1049365           9139        20            1          0  1.460026e+09   \n",
       "96988             9714        19            0          0  1.463310e+09   \n",
       "1135020           9984        19            1          0  1.462787e+09   \n",
       "66718             9451        16            1          0  1.462469e+09   \n",
       "380093            9223        11            1          1  1.463064e+09   \n",
       "1108146           9144         8            1          1  1.456378e+09   \n",
       "130934            9581         4            1          0  1.466616e+09   \n",
       "1023993           9031         2            1          0  1.455532e+09   \n",
       "1111840           9198         2            1          0  1.464340e+09   \n",
       "455545            9009         1            1          1  1.463401e+09   \n",
       "320154            9616         1            0          0  1.458468e+09   \n",
       "453456            9462         1            1          1  1.457440e+09   \n",
       "614173            9468         0            0          0  1.457284e+09   \n",
       "137848            9197         0            0          0  1.466248e+09   \n",
       "\n",
       "         store_fwd_flag duration_type  dura_type  scaled_dist  pickup_hour  \n",
       "259713                0         9to10        0.9       10.000           17  \n",
       "1270767               0         9to10        0.9        8.875           11  \n",
       "114196                0         9to10        0.9        8.875           15  \n",
       "230581                0         9to10        0.9        8.875           17  \n",
       "821202                0         9to10        0.9        8.875            9  \n",
       "1161741               0         9to10        0.9        8.500           17  \n",
       "133723                0         9to10        0.9        8.500           12  \n",
       "1049365               0         9to10        0.9        8.500           14  \n",
       "96988                 0         9to10        0.9        8.125           15  \n",
       "1135020               1         9to10        0.9        8.125           13  \n",
       "66718                 0         9to10        0.9        7.000           21  \n",
       "380093                0         9to10        0.9        5.125           18  \n",
       "1108146               0         9to10        0.9        4.000            9  \n",
       "130934                0         9to10        0.9        2.500           21  \n",
       "1023993               0         9to10        0.9        1.750           14  \n",
       "1111840               0         9to10        0.9        1.750           13  \n",
       "455545                0         9to10        0.9        1.375           16  \n",
       "320154                0         9to10        0.9        1.375           13  \n",
       "453456                0         9to10        0.9        1.375           16  \n",
       "614173                0         9to10        0.9        1.000           21  \n",
       "137848                0         9to10        0.9        1.000           15  "
      ]
     },
     "execution_count": 348,
     "metadata": {},
     "output_type": "execute_result"
    }
   ],
   "source": [
    "avg_sec_9000.sort_values(['distance'], ascending=[False])\n",
    "#sort_values(['dura_type'], ascending=[True])\n"
   ]
  },
  {
   "cell_type": "code",
   "execution_count": 50,
   "metadata": {},
   "outputs": [
    {
     "data": {
      "text/plain": [
       "<matplotlib.collections.PathCollection at 0x9f0d6c1a58>"
      ]
     },
     "execution_count": 50,
     "metadata": {},
     "output_type": "execute_result"
    },
    {
     "data": {
      "image/png": "[encoded data removed]",
      "text/plain": [
       "<matplotlib.figure.Figure at 0x9f16298128>"
      ]
     },
     "metadata": {},
     "output_type": "display_data"
    }
   ],
   "source": [
    "#bins=[1,2,3,4,5,6,7,8,9,10]\n",
    "#survived_hist=train['trip_duration']\n",
    "#plt.scatter(rawtrain['trip_duration'],rawtrain['trip_duration'])\n",
    "#plt.scatter(tesing['trip_duration'],tesing['distance'])\n",
    "plt.scatter(avg_sec_9000['trip_duration'],avg_sec_9000['distance'])"
   ]
  },
  {
   "cell_type": "code",
   "execution_count": 154,
   "metadata": {},
   "outputs": [
    {
     "data": {
      "text/plain": [
       "(array([ 7.,  1.,  0.,  1.,  1.,  0.,  1.,  2.,  7.,  1.]),\n",
       " array([  0. ,   2.4,   4.8,   7.2,   9.6,  12. ,  14.4,  16.8,  19.2,\n",
       "         21.6,  24. ]),\n",
       " <a list of 10 Patch objects>)"
      ]
     },
     "execution_count": 154,
     "metadata": {},
     "output_type": "execute_result"
    },
    {
     "data": {
      "image/png": "[encoded data removed]",
      "text/plain": [
       "<matplotlib.figure.Figure at 0x9f163e5ba8>"
      ]
     },
     "metadata": {},
     "output_type": "display_data"
    }
   ],
   "source": [
    "#plt.hist(avg_sec_9000['distance'])\n",
    "\n",
    "plt.hist(avg_sec_9000['distance'],10)"
   ]
  },
  {
   "cell_type": "code",
   "execution_count": 155,
   "metadata": {
    "collapsed": true
   },
   "outputs": [],
   "source": [
    "avg9000_high = np.percentile(avg_sec_9000['distance'],100)\n",
    "avg9000_low = np.percentile(avg_sec_9000['distance'],25)\n",
    "avg_sec_9000 = avg_sec_9000.loc[(avg_sec_9000['distance'] > avg9000_low) & (avg_sec_9000['distance'] <= avg9000_high)]\n",
    "#avg9000_high\n",
    "#avg9000_low"
   ]
  },
  {
   "cell_type": "code",
   "execution_count": 571,
   "metadata": {
    "collapsed": true
   },
   "outputs": [],
   "source": [
    "#,'scaled_dist''dura_type','dropoff_longitude','dropoff_latitude','pickup_time',,'pickup_longitude','pickup_latitude','dropoff_longitude','dropoff_latitude'\n",
    "avg_9000_traindata = avg_sec_9000[['vendor_id','passenger_count','pickup_latitude','dropoff_latitude','dropoff_longitude','store_fwd_flag','distance','weekday_end','pickup_hour','trip_duration']]\n"
   ]
  },
  {
   "cell_type": "code",
   "execution_count": 572,
   "metadata": {},
   "outputs": [
    {
     "data": {
      "text/plain": [
       "<matplotlib.axes._subplots.AxesSubplot at 0x9f0dced0b8>"
      ]
     },
     "execution_count": 572,
     "metadata": {},
     "output_type": "execute_result"
    },
    {
     "data": {
      "image/png": "[encoded data removed]",
      "text/plain": [
       "<matplotlib.figure.Figure at 0x9f0da6a630>"
      ]
     },
     "metadata": {},
     "output_type": "display_data"
    }
   ],
   "source": [
    "sb.heatmap(avg_9000_traindata.corr())"
   ]
  },
  {
   "cell_type": "code",
   "execution_count": 573,
   "metadata": {},
   "outputs": [
    {
     "data": {
      "text/html": [
       "<div>\n",
       "<style>\n",
       "    .dataframe thead tr:only-child th {\n",
       "        text-align: right;\n",
       "    }\n",
       "\n",
       "    .dataframe thead th {\n",
       "        text-align: left;\n",
       "    }\n",
       "\n",
       "    .dataframe tbody tr th {\n",
       "        vertical-align: top;\n",
       "    }\n",
       "</style>\n",
       "<table border=\"1\" class=\"dataframe\">\n",
       "  <thead>\n",
       "    <tr style=\"text-align: right;\">\n",
       "      <th></th>\n",
       "      <th>vendor_id</th>\n",
       "      <th>passenger_count</th>\n",
       "      <th>pickup_latitude</th>\n",
       "      <th>dropoff_latitude</th>\n",
       "      <th>dropoff_longitude</th>\n",
       "      <th>store_fwd_flag</th>\n",
       "      <th>distance</th>\n",
       "      <th>weekday_end</th>\n",
       "      <th>pickup_hour</th>\n",
       "      <th>trip_duration</th>\n",
       "    </tr>\n",
       "  </thead>\n",
       "  <tbody>\n",
       "    <tr>\n",
       "      <th>vendor_id</th>\n",
       "      <td>1.000000</td>\n",
       "      <td>-0.100504</td>\n",
       "      <td>0.369442</td>\n",
       "      <td>0.342945</td>\n",
       "      <td>-0.176359</td>\n",
       "      <td>-0.193649</td>\n",
       "      <td>-0.170816</td>\n",
       "      <td>0.361111</td>\n",
       "      <td>0.060765</td>\n",
       "      <td>-0.280139</td>\n",
       "    </tr>\n",
       "    <tr>\n",
       "      <th>passenger_count</th>\n",
       "      <td>-0.100504</td>\n",
       "      <td>1.000000</td>\n",
       "      <td>0.017246</td>\n",
       "      <td>-0.404892</td>\n",
       "      <td>0.358643</td>\n",
       "      <td>-0.116775</td>\n",
       "      <td>0.149680</td>\n",
       "      <td>0.188445</td>\n",
       "      <td>0.036643</td>\n",
       "      <td>-0.032572</td>\n",
       "    </tr>\n",
       "    <tr>\n",
       "      <th>pickup_latitude</th>\n",
       "      <td>0.369442</td>\n",
       "      <td>0.017246</td>\n",
       "      <td>1.000000</td>\n",
       "      <td>0.160860</td>\n",
       "      <td>0.027565</td>\n",
       "      <td>0.269944</td>\n",
       "      <td>-0.386778</td>\n",
       "      <td>0.528998</td>\n",
       "      <td>0.022878</td>\n",
       "      <td>-0.295893</td>\n",
       "    </tr>\n",
       "    <tr>\n",
       "      <th>dropoff_latitude</th>\n",
       "      <td>0.342945</td>\n",
       "      <td>-0.404892</td>\n",
       "      <td>0.160860</td>\n",
       "      <td>1.000000</td>\n",
       "      <td>-0.908038</td>\n",
       "      <td>-0.341921</td>\n",
       "      <td>0.144505</td>\n",
       "      <td>-0.000682</td>\n",
       "      <td>0.003074</td>\n",
       "      <td>-0.175620</td>\n",
       "    </tr>\n",
       "    <tr>\n",
       "      <th>dropoff_longitude</th>\n",
       "      <td>-0.176359</td>\n",
       "      <td>0.358643</td>\n",
       "      <td>0.027565</td>\n",
       "      <td>-0.908038</td>\n",
       "      <td>1.000000</td>\n",
       "      <td>0.374973</td>\n",
       "      <td>-0.297134</td>\n",
       "      <td>0.052546</td>\n",
       "      <td>-0.149165</td>\n",
       "      <td>0.115194</td>\n",
       "    </tr>\n",
       "    <tr>\n",
       "      <th>store_fwd_flag</th>\n",
       "      <td>-0.193649</td>\n",
       "      <td>-0.116775</td>\n",
       "      <td>0.269944</td>\n",
       "      <td>-0.341921</td>\n",
       "      <td>0.374973</td>\n",
       "      <td>1.000000</td>\n",
       "      <td>0.173661</td>\n",
       "      <td>0.193649</td>\n",
       "      <td>-0.138067</td>\n",
       "      <td>0.479182</td>\n",
       "    </tr>\n",
       "    <tr>\n",
       "      <th>distance</th>\n",
       "      <td>-0.170816</td>\n",
       "      <td>0.149680</td>\n",
       "      <td>-0.386778</td>\n",
       "      <td>0.144505</td>\n",
       "      <td>-0.297134</td>\n",
       "      <td>0.173661</td>\n",
       "      <td>1.000000</td>\n",
       "      <td>-0.170816</td>\n",
       "      <td>-0.191504</td>\n",
       "      <td>0.323789</td>\n",
       "    </tr>\n",
       "    <tr>\n",
       "      <th>weekday_end</th>\n",
       "      <td>0.361111</td>\n",
       "      <td>0.188445</td>\n",
       "      <td>0.528998</td>\n",
       "      <td>-0.000682</td>\n",
       "      <td>0.052546</td>\n",
       "      <td>0.193649</td>\n",
       "      <td>-0.170816</td>\n",
       "      <td>1.000000</td>\n",
       "      <td>0.081020</td>\n",
       "      <td>-0.142939</td>\n",
       "    </tr>\n",
       "    <tr>\n",
       "      <th>pickup_hour</th>\n",
       "      <td>0.060765</td>\n",
       "      <td>0.036643</td>\n",
       "      <td>0.022878</td>\n",
       "      <td>0.003074</td>\n",
       "      <td>-0.149165</td>\n",
       "      <td>-0.138067</td>\n",
       "      <td>-0.191504</td>\n",
       "      <td>0.081020</td>\n",
       "      <td>1.000000</td>\n",
       "      <td>0.243156</td>\n",
       "    </tr>\n",
       "    <tr>\n",
       "      <th>trip_duration</th>\n",
       "      <td>-0.280139</td>\n",
       "      <td>-0.032572</td>\n",
       "      <td>-0.295893</td>\n",
       "      <td>-0.175620</td>\n",
       "      <td>0.115194</td>\n",
       "      <td>0.479182</td>\n",
       "      <td>0.323789</td>\n",
       "      <td>-0.142939</td>\n",
       "      <td>0.243156</td>\n",
       "      <td>1.000000</td>\n",
       "    </tr>\n",
       "  </tbody>\n",
       "</table>\n",
       "</div>"
      ],
      "text/plain": [
       "                   vendor_id  passenger_count  pickup_latitude  \\\n",
       "vendor_id           1.000000        -0.100504         0.369442   \n",
       "passenger_count    -0.100504         1.000000         0.017246   \n",
       "pickup_latitude     0.369442         0.017246         1.000000   \n",
       "dropoff_latitude    0.342945        -0.404892         0.160860   \n",
       "dropoff_longitude  -0.176359         0.358643         0.027565   \n",
       "store_fwd_flag     -0.193649        -0.116775         0.269944   \n",
       "distance           -0.170816         0.149680        -0.386778   \n",
       "weekday_end         0.361111         0.188445         0.528998   \n",
       "pickup_hour         0.060765         0.036643         0.022878   \n",
       "trip_duration      -0.280139        -0.032572        -0.295893   \n",
       "\n",
       "                   dropoff_latitude  dropoff_longitude  store_fwd_flag  \\\n",
       "vendor_id                  0.342945          -0.176359       -0.193649   \n",
       "passenger_count           -0.404892           0.358643       -0.116775   \n",
       "pickup_latitude            0.160860           0.027565        0.269944   \n",
       "dropoff_latitude           1.000000          -0.908038       -0.341921   \n",
       "dropoff_longitude         -0.908038           1.000000        0.374973   \n",
       "store_fwd_flag            -0.341921           0.374973        1.000000   \n",
       "distance                   0.144505          -0.297134        0.173661   \n",
       "weekday_end               -0.000682           0.052546        0.193649   \n",
       "pickup_hour                0.003074          -0.149165       -0.138067   \n",
       "trip_duration             -0.175620           0.115194        0.479182   \n",
       "\n",
       "                   distance  weekday_end  pickup_hour  trip_duration  \n",
       "vendor_id         -0.170816     0.361111     0.060765      -0.280139  \n",
       "passenger_count    0.149680     0.188445     0.036643      -0.032572  \n",
       "pickup_latitude   -0.386778     0.528998     0.022878      -0.295893  \n",
       "dropoff_latitude   0.144505    -0.000682     0.003074      -0.175620  \n",
       "dropoff_longitude -0.297134     0.052546    -0.149165       0.115194  \n",
       "store_fwd_flag     0.173661     0.193649    -0.138067       0.479182  \n",
       "distance           1.000000    -0.170816    -0.191504       0.323789  \n",
       "weekday_end       -0.170816     1.000000     0.081020      -0.142939  \n",
       "pickup_hour       -0.191504     0.081020     1.000000       0.243156  \n",
       "trip_duration      0.323789    -0.142939     0.243156       1.000000  "
      ]
     },
     "execution_count": 573,
     "metadata": {},
     "output_type": "execute_result"
    }
   ],
   "source": [
    "avg_9000_traindata.apply(lambda s: avg_9000_traindata.corrwith(s))"
   ]
  },
  {
   "cell_type": "code",
   "execution_count": 574,
   "metadata": {},
   "outputs": [
    {
     "data": {
      "text/plain": [
       "10"
      ]
     },
     "execution_count": 574,
     "metadata": {},
     "output_type": "execute_result"
    }
   ],
   "source": [
    "len(avg_9000_traindata.columns)"
   ]
  },
  {
   "cell_type": "code",
   "execution_count": 575,
   "metadata": {
    "collapsed": true
   },
   "outputs": [],
   "source": [
    "from sklearn.decomposition import PCA \n",
    "import matplotlib.pyplot as plt \n",
    "from sklearn.preprocessing import scale \n",
    "import sklearn \n",
    "from sklearn.linear_model import LinearRegression \n",
    "%matplotlib inline \n",
    "#dividing the dataset to tarining set and test set \n",
    "from sklearn.cross_validation import train_test_split \n",
    "import seaborn as sb\n"
   ]
  },
  {
   "cell_type": "code",
   "execution_count": 576,
   "metadata": {
    "collapsed": true
   },
   "outputs": [],
   "source": [
    "X9000=avg_9000_traindata.iloc[:,0:9]\n",
    "Y9000=avg_9000_traindata.iloc[:,9]"
   ]
  },
  {
   "cell_type": "code",
   "execution_count": 524,
   "metadata": {
    "scrolled": true
   },
   "outputs": [
    {
     "data": {
      "text/plain": [
       "PCA(copy=True, iterated_power='auto', n_components=6, random_state=None,\n",
       "  svd_solver='auto', tol=0.0, whiten=False)"
      ]
     },
     "execution_count": 524,
     "metadata": {},
     "output_type": "execute_result"
    }
   ],
   "source": [
    "from sklearn.decomposition import PCA\n",
    "#Initialize PCA for calculating 9variables \n",
    "pca = PCA(n_components=6) \n",
    "\n",
    "#calculate PCA with independent 9 columns \n",
    "pca.fit(X9000)"
   ]
  },
  {
   "cell_type": "code",
   "execution_count": 540,
   "metadata": {},
   "outputs": [
    {
     "data": {
      "text/plain": [
       "array([  9.82399793e-01,   1.41798129e-02,   2.87990731e-03,\n",
       "         5.08708999e-04,   2.55540881e-05,   6.22374273e-06])"
      ]
     },
     "execution_count": 540,
     "metadata": {},
     "output_type": "execute_result"
    }
   ],
   "source": [
    "var= pca.explained_variance_ratio_ \n",
    "var"
   ]
  },
  {
   "cell_type": "code",
   "execution_count": 541,
   "metadata": {},
   "outputs": [
    {
     "name": "stdout",
     "output_type": "stream",
     "text": [
      "[  98.24   99.66   99.95  100.    100.    100.  ]\n"
     ]
    }
   ],
   "source": [
    "#Cumulative Variance explains \n",
    "var1=np.cumsum(np.round(pca.explained_variance_ratio_, decimals=4)*100) \n",
    "print(var1)"
   ]
  },
  {
   "cell_type": "code",
   "execution_count": 577,
   "metadata": {
    "collapsed": true
   },
   "outputs": [],
   "source": [
    "x_train9, x_test9, y_train9, y_test9 = sklearn.cross_validation.train_test_split(X9000, Y9000, test_size = 0.20, random_state =2 ) "
   ]
  },
  {
   "cell_type": "code",
   "execution_count": 578,
   "metadata": {},
   "outputs": [
    {
     "data": {
      "text/plain": [
       "LinearRegression(copy_X=True, fit_intercept=True, n_jobs=1, normalize=False)"
      ]
     },
     "execution_count": 578,
     "metadata": {},
     "output_type": "execute_result"
    }
   ],
   "source": [
    "#creating the Linear regression model \n",
    "lm9 = LinearRegression()\n",
    " \n",
    "#fit the model on train dataset \n",
    "lm9.fit(x_train9, y_train9) "
   ]
  },
  {
   "cell_type": "code",
   "execution_count": 579,
   "metadata": {
    "collapsed": true
   },
   "outputs": [],
   "source": [
    "#make predictions using created model \n",
    "y_train_pred9 = lm9.predict(x_train9)  \n",
    " \n",
    "#use the model to predice the test dataset \n",
    "y_test_pred9 = lm9.predict(x_test9) "
   ]
  },
  {
   "cell_type": "code",
   "execution_count": 580,
   "metadata": {
    "collapsed": true
   },
   "outputs": [],
   "source": [
    "#put the predicted and actual side by side to check the efficiency of the model \n",
    "df9 = pd.DataFrame(y_test_pred9.round(),y_test9) "
   ]
  },
  {
   "cell_type": "code",
   "execution_count": 581,
   "metadata": {},
   "outputs": [
    {
     "data": {
      "text/html": [
       "<div>\n",
       "<style>\n",
       "    .dataframe thead tr:only-child th {\n",
       "        text-align: right;\n",
       "    }\n",
       "\n",
       "    .dataframe thead th {\n",
       "        text-align: left;\n",
       "    }\n",
       "\n",
       "    .dataframe tbody tr th {\n",
       "        vertical-align: top;\n",
       "    }\n",
       "</style>\n",
       "<table border=\"1\" class=\"dataframe\">\n",
       "  <thead>\n",
       "    <tr style=\"text-align: right;\">\n",
       "      <th></th>\n",
       "      <th>0</th>\n",
       "    </tr>\n",
       "    <tr>\n",
       "      <th>trip_duration</th>\n",
       "      <th></th>\n",
       "    </tr>\n",
       "  </thead>\n",
       "  <tbody>\n",
       "    <tr>\n",
       "      <th>9462</th>\n",
       "      <td>9414.0</td>\n",
       "    </tr>\n",
       "    <tr>\n",
       "      <th>9676</th>\n",
       "      <td>9602.0</td>\n",
       "    </tr>\n",
       "    <tr>\n",
       "      <th>9451</th>\n",
       "      <td>9522.0</td>\n",
       "    </tr>\n",
       "    <tr>\n",
       "      <th>9031</th>\n",
       "      <td>9153.0</td>\n",
       "    </tr>\n",
       "    <tr>\n",
       "      <th>9581</th>\n",
       "      <td>9441.0</td>\n",
       "    </tr>\n",
       "  </tbody>\n",
       "</table>\n",
       "</div>"
      ],
      "text/plain": [
       "                    0\n",
       "trip_duration        \n",
       "9462           9414.0\n",
       "9676           9602.0\n",
       "9451           9522.0\n",
       "9031           9153.0\n",
       "9581           9441.0"
      ]
     },
     "execution_count": 581,
     "metadata": {},
     "output_type": "execute_result"
    }
   ],
   "source": [
    "df9.head(20)"
   ]
  },
  {
   "cell_type": "code",
   "execution_count": 582,
   "metadata": {
    "collapsed": true
   },
   "outputs": [],
   "source": [
    "def rmse(y1,y_hat):\n",
    "    y_actual = np.array(y1)\n",
    "    y_pred=np.array(y_hat)\n",
    "    error=(y_actual-y_pred)**2\n",
    "    error_mean=round(np.mean(error))\n",
    "    err_sq=sqrt(error_mean)\n",
    "    return err_sq"
   ]
  },
  {
   "cell_type": "code",
   "execution_count": 583,
   "metadata": {},
   "outputs": [
    {
     "data": {
      "text/plain": [
       "97.28309205612247"
      ]
     },
     "execution_count": 583,
     "metadata": {},
     "output_type": "execute_result"
    }
   ],
   "source": [
    "rmse(y_test9, y_test_pred9)"
   ]
  },
  {
   "cell_type": "code",
   "execution_count": null,
   "metadata": {
    "collapsed": true
   },
   "outputs": [],
   "source": [
    "def rmsle(predicted,real):\n",
    "    sum=0.0\n",
    "    for x in range(len(predicted)):\n",
    "        p = np.log(predicted[x]+1)\n",
    "        r = np.log(real[x]+1)\n",
    "        sum = sum + (p - r)**2\n",
    "    return (sum/len(predicted))**0.5"
   ]
  },
  {
   "cell_type": "code",
   "execution_count": 587,
   "metadata": {},
   "outputs": [
    {
     "data": {
      "text/plain": [
       "97.28332509696116"
      ]
     },
     "execution_count": 587,
     "metadata": {},
     "output_type": "execute_result"
    }
   ],
   "source": [
    "#calculate the MSE \n",
    "from sklearn import metrics  \n",
    "#from sklearn.metrics import score\n",
    " \n",
    "mse = metrics.mean_squared_error(y_test9, y_test_pred9) \n",
    "#print(mse)\n",
    "sqrt(mse)"
   ]
  },
  {
   "cell_type": "code",
   "execution_count": 585,
   "metadata": {},
   "outputs": [
    {
     "data": {
      "text/plain": [
       "<matplotlib.collections.PathCollection at 0x9f0d8ffdd8>"
      ]
     },
     "execution_count": 585,
     "metadata": {},
     "output_type": "execute_result"
    },
    {
     "data": {
      "image/png": "[encoded data removed]",
      "text/plain": [
       "<matplotlib.figure.Figure at 0x9f0de59da0>"
      ]
     },
     "metadata": {},
     "output_type": "display_data"
    }
   ],
   "source": [
    "plt.scatter(y_test_pred9, x_test9['distance'],c='red', marker='o', label = 'Test data')\n",
    "plt.scatter(y_test9, x_test9['distance'],c='blue', marker='o', label = 'Test data')"
   ]
  },
  {
   "cell_type": "code",
   "execution_count": null,
   "metadata": {
    "collapsed": true
   },
   "outputs": [],
   "source": []
  }
 ],
 "metadata": {
  "kernelspec": {
   "display_name": "Python 3",
   "language": "python",
   "name": "python3"
  },
  "language_info": {
   "codemirror_mode": {
    "name": "ipython",
    "version": 3
   },
   "file_extension": ".py",
   "mimetype": "text/x-python",
   "name": "python",
   "nbconvert_exporter": "python",
   "pygments_lexer": "ipython3",
   "version": "3.6.1"
  }
 },
 "nbformat": 4,
 "nbformat_minor": 2
}
