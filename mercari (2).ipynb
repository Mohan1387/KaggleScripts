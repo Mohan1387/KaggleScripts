{
 "cells": [
  {
   "cell_type": "code",
   "execution_count": 3,
   "metadata": {
    "collapsed": true
   },
   "outputs": [],
   "source": [
    "import pandas as pd\n",
    "import numpy as np\n",
    "import nltk\n",
    "import re\n",
    "import matplotlib.pyplot as plt\n",
    "\n",
    "%matplotlib inline"
   ]
  },
  {
   "cell_type": "code",
   "execution_count": 4,
   "metadata": {
    "collapsed": true
   },
   "outputs": [],
   "source": [
    "train_df = pd.read_csv(\"D:/PythonSamples/Mercari/train.tsv\", sep='\\t', header=0,engine=\"python\")\n"
   ]
  },
  {
   "cell_type": "code",
   "execution_count": 1,
   "metadata": {},
   "outputs": [
    {
     "name": "stdout",
     "output_type": "stream",
     "text": [
      "1.00000008974\n",
      "0.459109740008\n",
      "0.459109740008\n"
     ]
    }
   ],
   "source": [
    "import spacy\n",
    "\n",
    "nlp = spacy.load('en')\n",
    "doc1 = nlp(u'Hello hi there!')\n",
    "doc2 = nlp(u'Hello hi there!')\n",
    "doc3 = nlp(u'Hey whatsup?')\n",
    "\n",
    "print(doc1.similarity(doc2)) # 0.999999954642\n",
    "print(doc2.similarity(doc3)) # 0.699032527716\n",
    "print(doc1.similarity(doc3))"
   ]
  },
  {
   "cell_type": "code",
   "execution_count": 8,
   "metadata": {
    "collapsed": true
   },
   "outputs": [],
   "source": [
    "test_df = pd.read_csv(\"D:/PythonSamples/Mercari/test.tsv\", delimiter=\"\\t\", header=0,engine=\"python\")"
   ]
  },
  {
   "cell_type": "code",
   "execution_count": 9,
   "metadata": {},
   "outputs": [
    {
     "data": {
      "text/html": [
       "<div>\n",
       "<style>\n",
       "    .dataframe thead tr:only-child th {\n",
       "        text-align: right;\n",
       "    }\n",
       "\n",
       "    .dataframe thead th {\n",
       "        text-align: left;\n",
       "    }\n",
       "\n",
       "    .dataframe tbody tr th {\n",
       "        vertical-align: top;\n",
       "    }\n",
       "</style>\n",
       "<table border=\"1\" class=\"dataframe\">\n",
       "  <thead>\n",
       "    <tr style=\"text-align: right;\">\n",
       "      <th></th>\n",
       "      <th>test_id</th>\n",
       "      <th>name</th>\n",
       "      <th>item_condition_id</th>\n",
       "      <th>category_name</th>\n",
       "      <th>brand_name</th>\n",
       "      <th>shipping</th>\n",
       "      <th>item_description</th>\n",
       "    </tr>\n",
       "  </thead>\n",
       "  <tbody>\n",
       "    <tr>\n",
       "      <th>0</th>\n",
       "      <td>0</td>\n",
       "      <td>Breast cancer \"I fight like a girl\" ring</td>\n",
       "      <td>1</td>\n",
       "      <td>Women/Jewelry/Rings</td>\n",
       "      <td>NaN</td>\n",
       "      <td>1</td>\n",
       "      <td>Size 7</td>\n",
       "    </tr>\n",
       "    <tr>\n",
       "      <th>1</th>\n",
       "      <td>1</td>\n",
       "      <td>25 pcs NEW 7.5\"x12\" Kraft Bubble Mailers</td>\n",
       "      <td>1</td>\n",
       "      <td>Other/Office supplies/Shipping Supplies</td>\n",
       "      <td>NaN</td>\n",
       "      <td>1</td>\n",
       "      <td>25 pcs NEW 7.5\"x12\" Kraft Bubble Mailers Lined...</td>\n",
       "    </tr>\n",
       "    <tr>\n",
       "      <th>2</th>\n",
       "      <td>2</td>\n",
       "      <td>Coach bag</td>\n",
       "      <td>1</td>\n",
       "      <td>Vintage &amp; Collectibles/Bags and Purses/Handbag</td>\n",
       "      <td>Coach</td>\n",
       "      <td>1</td>\n",
       "      <td>Brand new coach bag. Bought for [rm] at a Coac...</td>\n",
       "    </tr>\n",
       "    <tr>\n",
       "      <th>3</th>\n",
       "      <td>3</td>\n",
       "      <td>Floral Kimono</td>\n",
       "      <td>2</td>\n",
       "      <td>Women/Sweaters/Cardigan</td>\n",
       "      <td>NaN</td>\n",
       "      <td>0</td>\n",
       "      <td>-floral kimono -never worn -lightweight and pe...</td>\n",
       "    </tr>\n",
       "    <tr>\n",
       "      <th>4</th>\n",
       "      <td>4</td>\n",
       "      <td>Life after Death</td>\n",
       "      <td>3</td>\n",
       "      <td>Other/Books/Religion &amp; Spirituality</td>\n",
       "      <td>NaN</td>\n",
       "      <td>1</td>\n",
       "      <td>Rediscovering life after the loss of a loved o...</td>\n",
       "    </tr>\n",
       "  </tbody>\n",
       "</table>\n",
       "</div>"
      ],
      "text/plain": [
       "   test_id                                      name  item_condition_id  \\\n",
       "0        0  Breast cancer \"I fight like a girl\" ring                  1   \n",
       "1        1  25 pcs NEW 7.5\"x12\" Kraft Bubble Mailers                  1   \n",
       "2        2                                 Coach bag                  1   \n",
       "3        3                             Floral Kimono                  2   \n",
       "4        4                          Life after Death                  3   \n",
       "\n",
       "                                    category_name brand_name  shipping  \\\n",
       "0                             Women/Jewelry/Rings        NaN         1   \n",
       "1         Other/Office supplies/Shipping Supplies        NaN         1   \n",
       "2  Vintage & Collectibles/Bags and Purses/Handbag      Coach         1   \n",
       "3                         Women/Sweaters/Cardigan        NaN         0   \n",
       "4             Other/Books/Religion & Spirituality        NaN         1   \n",
       "\n",
       "                                    item_description  \n",
       "0                                             Size 7  \n",
       "1  25 pcs NEW 7.5\"x12\" Kraft Bubble Mailers Lined...  \n",
       "2  Brand new coach bag. Bought for [rm] at a Coac...  \n",
       "3  -floral kimono -never worn -lightweight and pe...  \n",
       "4  Rediscovering life after the loss of a loved o...  "
      ]
     },
     "execution_count": 9,
     "metadata": {},
     "output_type": "execute_result"
    }
   ],
   "source": [
    "test_df.head()"
   ]
  },
  {
   "cell_type": "code",
   "execution_count": 10,
   "metadata": {},
   "outputs": [
    {
     "data": {
      "text/plain": [
       "test_id                   0\n",
       "name                      0\n",
       "item_condition_id         0\n",
       "category_name          3058\n",
       "brand_name           295525\n",
       "shipping                  0\n",
       "item_description          0\n",
       "dtype: int64"
      ]
     },
     "execution_count": 10,
     "metadata": {},
     "output_type": "execute_result"
    }
   ],
   "source": [
    "test_df.isnull().sum()"
   ]
  },
  {
   "cell_type": "code",
   "execution_count": 11,
   "metadata": {
    "collapsed": true
   },
   "outputs": [],
   "source": [
    "test_df['price'] = 999999.00 "
   ]
  },
  {
   "cell_type": "code",
   "execution_count": 12,
   "metadata": {
    "collapsed": true
   },
   "outputs": [],
   "source": [
    "test_df = test_df[['test_id','name','item_condition_id','category_name','brand_name','shipping','item_description','price']]"
   ]
  },
  {
   "cell_type": "code",
   "execution_count": 13,
   "metadata": {
    "collapsed": true
   },
   "outputs": [],
   "source": [
    "test_df['category_name'].fillna('NoValue', inplace=True)"
   ]
  },
  {
   "cell_type": "code",
   "execution_count": 14,
   "metadata": {
    "collapsed": true
   },
   "outputs": [],
   "source": [
    "test_df['brand_name'].fillna('NoValue', inplace=True)"
   ]
  },
  {
   "cell_type": "code",
   "execution_count": 5,
   "metadata": {
    "collapsed": true
   },
   "outputs": [],
   "source": [
    "sample_sf = pd.read_csv(\"D:/PythonSamples/Mercari/sample_submission.csv\", sep=',', header=0,engine=\"python\")"
   ]
  },
  {
   "cell_type": "code",
   "execution_count": 5,
   "metadata": {},
   "outputs": [
    {
     "data": {
      "text/plain": [
       "0.0"
      ]
     },
     "execution_count": 5,
     "metadata": {},
     "output_type": "execute_result"
    }
   ],
   "source": [
    "#len(train_df) --> 1482535\n",
    "#train_df.isnull().sum()\n",
    "train_df['price'].min()"
   ]
  },
  {
   "cell_type": "code",
   "execution_count": 15,
   "metadata": {
    "collapsed": true,
    "scrolled": true
   },
   "outputs": [],
   "source": [
    "train_df['category_name'].fillna('NoValue', inplace=True)"
   ]
  },
  {
   "cell_type": "code",
   "execution_count": 16,
   "metadata": {
    "collapsed": true
   },
   "outputs": [],
   "source": [
    "train_df['brand_name'].fillna('NoValue', inplace=True)"
   ]
  },
  {
   "cell_type": "code",
   "execution_count": 18,
   "metadata": {
    "collapsed": true
   },
   "outputs": [],
   "source": [
    "train_df = train_df[train_df['price'] != 0.0]"
   ]
  },
  {
   "cell_type": "code",
   "execution_count": 8,
   "metadata": {
    "collapsed": true
   },
   "outputs": [],
   "source": [
    "#train_df['category_name'].value_counts()\n",
    "#train_df['brand_name'].value_counts()\n",
    "#train_df.info()"
   ]
  },
  {
   "cell_type": "code",
   "execution_count": 19,
   "metadata": {
    "collapsed": true
   },
   "outputs": [],
   "source": [
    "x = train_df[['category_name','name']]\n",
    "y = test_df[['category_name','name']]\n",
    "\n",
    "category_df = x\n",
    "category_df = category_df.append(y)"
   ]
  },
  {
   "cell_type": "code",
   "execution_count": 21,
   "metadata": {},
   "outputs": [
    {
     "data": {
      "text/plain": [
       "2175020"
      ]
     },
     "execution_count": 21,
     "metadata": {},
     "output_type": "execute_result"
    }
   ],
   "source": [
    "len(category_df)"
   ]
  },
  {
   "cell_type": "code",
   "execution_count": 22,
   "metadata": {},
   "outputs": [
    {
     "data": {
      "text/plain": [
       "category_name    0\n",
       "name             0\n",
       "dtype: int64"
      ]
     },
     "execution_count": 22,
     "metadata": {},
     "output_type": "execute_result"
    }
   ],
   "source": [
    "category_df.isnull().sum()"
   ]
  },
  {
   "cell_type": "code",
   "execution_count": 512,
   "metadata": {
    "collapsed": true
   },
   "outputs": [],
   "source": [
    "#category_df['category_name'].fillna('NoValue', inplace=True)"
   ]
  },
  {
   "cell_type": "code",
   "execution_count": 23,
   "metadata": {
    "collapsed": true
   },
   "outputs": [],
   "source": [
    "category_df['name'] = category_df['name'].astype(str).str.split(' ').apply(list)"
   ]
  },
  {
   "cell_type": "code",
   "execution_count": 24,
   "metadata": {
    "collapsed": true
   },
   "outputs": [],
   "source": [
    "category_ref = category_df.groupby('category_name')['name'].apply(list)"
   ]
  },
  {
   "cell_type": "code",
   "execution_count": 25,
   "metadata": {},
   "outputs": [
    {
     "data": {
      "text/plain": [
       "0"
      ]
     },
     "execution_count": 25,
     "metadata": {},
     "output_type": "execute_result"
    }
   ],
   "source": [
    "category_ref.isnull().sum()"
   ]
  },
  {
   "cell_type": "code",
   "execution_count": 26,
   "metadata": {
    "collapsed": true
   },
   "outputs": [],
   "source": [
    "category_ref_df = pd.DataFrame({'category_name':category_ref.index, 'name':category_ref.values}) "
   ]
  },
  {
   "cell_type": "code",
   "execution_count": 27,
   "metadata": {
    "collapsed": true
   },
   "outputs": [],
   "source": [
    "def flattenlistname(row):\n",
    "    listoflist = row['name']\n",
    "    #finallist = reduce(lambda x,y: x+y,listoflist)\n",
    "    finallist = ' '.join(str(r) for v in listoflist for r in v)\n",
    "    #print(row['category_name'])\n",
    "    return finallist"
   ]
  },
  {
   "cell_type": "code",
   "execution_count": 28,
   "metadata": {
    "collapsed": true
   },
   "outputs": [],
   "source": [
    "category_ref_df['name'] = category_ref_df.apply(flattenlistname, axis = 1)"
   ]
  },
  {
   "cell_type": "code",
   "execution_count": 29,
   "metadata": {
    "collapsed": true
   },
   "outputs": [],
   "source": [
    "category_ref_df['name'] = category_ref_df['name'].str.lower()"
   ]
  },
  {
   "cell_type": "code",
   "execution_count": 31,
   "metadata": {
    "collapsed": true
   },
   "outputs": [],
   "source": [
    "def removeDupl(text):\n",
    "    #print(text)\n",
    "    list_ = re.sub('[^A-Za-z ]+', '',text)\n",
    "    list_val = list_.split(' ')\n",
    "    #print(list_val)\n",
    "    finallist = list(set(list_val))\n",
    "    #print(finallist)\n",
    "    #final = finallist#[re.sub('[^a-zA-Z0-9]+', '', _) for _ in finallist]\n",
    "    #print(final)\n",
    "    #final_list = list(filter(None, final))\n",
    "    final_list1 = []\n",
    "    for i in finallist:\n",
    "        #print(i)\n",
    "        if len(i) > 1:\n",
    "            final_list1.append(i)\n",
    "    return final_list1\n"
   ]
  },
  {
   "cell_type": "code",
   "execution_count": 32,
   "metadata": {},
   "outputs": [],
   "source": [
    "category_ref_df['name'] = category_ref_df['name'].apply(lambda x: removeDupl(x))"
   ]
  },
  {
   "cell_type": "code",
   "execution_count": 630,
   "metadata": {
    "collapsed": true
   },
   "outputs": [],
   "source": [
    "category_ref_df['name'] = category_ref_df['name'].apply(lambda x: cleanUnwantedDesc(x))"
   ]
  },
  {
   "cell_type": "code",
   "execution_count": 635,
   "metadata": {},
   "outputs": [
    {
     "data": {
      "text/html": [
       "<div>\n",
       "<style>\n",
       "    .dataframe thead tr:only-child th {\n",
       "        text-align: right;\n",
       "    }\n",
       "\n",
       "    .dataframe thead th {\n",
       "        text-align: left;\n",
       "    }\n",
       "\n",
       "    .dataframe tbody tr th {\n",
       "        vertical-align: top;\n",
       "    }\n",
       "</style>\n",
       "<table border=\"1\" class=\"dataframe\">\n",
       "  <thead>\n",
       "    <tr style=\"text-align: right;\">\n",
       "      <th></th>\n",
       "      <th>category_name</th>\n",
       "      <th>name</th>\n",
       "    </tr>\n",
       "  </thead>\n",
       "  <tbody>\n",
       "    <tr>\n",
       "      <th>0</th>\n",
       "      <td>Beauty/Bath &amp; Body/Bath</td>\n",
       "      <td>[shoemama, spongell, soapgreat, extender, rock...</td>\n",
       "    </tr>\n",
       "    <tr>\n",
       "      <th>1</th>\n",
       "      <td>Beauty/Bath &amp; Body/Bathing Accessories</td>\n",
       "      <td>[women, item, break, hardware, print, cloth, b...</td>\n",
       "    </tr>\n",
       "    <tr>\n",
       "      <th>2</th>\n",
       "      <td>Beauty/Bath &amp; Body/Cleansers</td>\n",
       "      <td>[crysrockz, grab, halloween, iloveshop, nectar...</td>\n",
       "    </tr>\n",
       "    <tr>\n",
       "      <th>3</th>\n",
       "      <td>Beauty/Bath &amp; Body/Other</td>\n",
       "      <td>[pregnancy, women, tests, hair, bounty, print,...</td>\n",
       "    </tr>\n",
       "    <tr>\n",
       "      <th>4</th>\n",
       "      <td>Beauty/Bath &amp; Body/Scrubs &amp; Body Treatments</td>\n",
       "      <td>[skies, game, extender, cleaner, packages, ite...</td>\n",
       "    </tr>\n",
       "    <tr>\n",
       "      <th>5</th>\n",
       "      <td>Beauty/Bath &amp; Body/Sets</td>\n",
       "      <td>[poshe, scentsy, clearance, hair, castaway, br...</td>\n",
       "    </tr>\n",
       "    <tr>\n",
       "      <th>6</th>\n",
       "      <td>Beauty/Fragrance/Candles &amp; Home Scents</td>\n",
       "      <td>[grab, ramey, crazycl, packages, rocket, scent...</td>\n",
       "    </tr>\n",
       "    <tr>\n",
       "      <th>7</th>\n",
       "      <td>Beauty/Fragrance/Kids</td>\n",
       "      <td>[galaxy, swirl, summer, tender, salad, effect,...</td>\n",
       "    </tr>\n",
       "    <tr>\n",
       "      <th>8</th>\n",
       "      <td>Beauty/Fragrance/Men</td>\n",
       "      <td>[dolcegabbana, ck, women, suits, bijan, brooks...</td>\n",
       "    </tr>\n",
       "    <tr>\n",
       "      <th>9</th>\n",
       "      <td>Beauty/Fragrance/Other</td>\n",
       "      <td>[euphoria, taylor, sephora, living, bottles, s...</td>\n",
       "    </tr>\n",
       "    <tr>\n",
       "      <th>10</th>\n",
       "      <td>Beauty/Fragrance/Sets</td>\n",
       "      <td>[game, promesse, luxury, simpson, bogo, basket...</td>\n",
       "    </tr>\n",
       "    <tr>\n",
       "      <th>11</th>\n",
       "      <td>Beauty/Fragrance/Women</td>\n",
       "      <td>[michel, versacejimmydonna, faith, labo, donna...</td>\n",
       "    </tr>\n",
       "    <tr>\n",
       "      <th>12</th>\n",
       "      <td>Beauty/Hair Care/Conditioners</td>\n",
       "      <td>[hair, biosilk, retrend, conditioners, cantu, ...</td>\n",
       "    </tr>\n",
       "    <tr>\n",
       "      <th>13</th>\n",
       "      <td>Beauty/Hair Care/Hair &amp; Scalp Treatments</td>\n",
       "      <td>[women, palmers, bottle, nectar, morroccanoil,...</td>\n",
       "    </tr>\n",
       "    <tr>\n",
       "      <th>14</th>\n",
       "      <td>Beauty/Hair Care/Hair Color</td>\n",
       "      <td>[women, neka, hair, berry, conditioners, cape,...</td>\n",
       "    </tr>\n",
       "    <tr>\n",
       "      <th>15</th>\n",
       "      <td>Beauty/Hair Care/Hair Loss Products</td>\n",
       "      <td>[nixion, latisse, sugar, women, bottle, repair...</td>\n",
       "    </tr>\n",
       "    <tr>\n",
       "      <th>16</th>\n",
       "      <td>Beauty/Hair Care/Hair Perms &amp; Texturizers</td>\n",
       "      <td>[styles, salon, base, home, hair, household, t...</td>\n",
       "    </tr>\n",
       "    <tr>\n",
       "      <th>17</th>\n",
       "      <td>Beauty/Hair Care/Hair Relaxers</td>\n",
       "      <td>[oil, anthony, relaxer, blow, style, breakage,...</td>\n",
       "    </tr>\n",
       "    <tr>\n",
       "      <th>18</th>\n",
       "      <td>Beauty/Hair Care/Other</td>\n",
       "      <td>[reimy, grab, sugar, ombre, winter, sam, freet...</td>\n",
       "    </tr>\n",
       "    <tr>\n",
       "      <th>19</th>\n",
       "      <td>Beauty/Hair Care/Shampoo &amp; Conditioner Sets</td>\n",
       "      <td>[chai, item, hair, crack, biosilk, quidad, sen...</td>\n",
       "    </tr>\n",
       "    <tr>\n",
       "      <th>20</th>\n",
       "      <td>Beauty/Hair Care/Shampoo Plus Conditioner</td>\n",
       "      <td>[coarse, biosilk, pump, genius, growth, panten...</td>\n",
       "    </tr>\n",
       "    <tr>\n",
       "      <th>21</th>\n",
       "      <td>Beauty/Hair Care/Shampoos</td>\n",
       "      <td>[poshe, hair, biosilk, soul, conditioners, uni...</td>\n",
       "    </tr>\n",
       "    <tr>\n",
       "      <th>22</th>\n",
       "      <td>Beauty/Hair Care/Styling Products</td>\n",
       "      <td>[extender, trtmnt, mayonnaise, hair, break, te...</td>\n",
       "    </tr>\n",
       "    <tr>\n",
       "      <th>23</th>\n",
       "      <td>Beauty/Hair Care/Styling Tools</td>\n",
       "      <td>[barber, clearance, hair, cape, stylewinder, c...</td>\n",
       "    </tr>\n",
       "    <tr>\n",
       "      <th>24</th>\n",
       "      <td>Beauty/Makeup/Body</td>\n",
       "      <td>[tut, halocouture, clearance, hair, jamberry, ...</td>\n",
       "    </tr>\n",
       "    <tr>\n",
       "      <th>25</th>\n",
       "      <td>Beauty/Makeup/Brushes &amp; Applicators</td>\n",
       "      <td>[women, teardrop, techniques, beautyblenders, ...</td>\n",
       "    </tr>\n",
       "    <tr>\n",
       "      <th>26</th>\n",
       "      <td>Beauty/Makeup/Eyes</td>\n",
       "      <td>[michel, kayyyy, yammy, collossal, newbare, ad...</td>\n",
       "    </tr>\n",
       "    <tr>\n",
       "      <th>27</th>\n",
       "      <td>Beauty/Makeup/Face</td>\n",
       "      <td>[faith, donna, charcoal, cocoa, treatment, kbr...</td>\n",
       "    </tr>\n",
       "    <tr>\n",
       "      <th>28</th>\n",
       "      <td>Beauty/Makeup/Lips</td>\n",
       "      <td>[clourpop, demand, lipstickbruise, michel, pai...</td>\n",
       "    </tr>\n",
       "    <tr>\n",
       "      <th>29</th>\n",
       "      <td>Beauty/Makeup/Makeup Palettes</td>\n",
       "      <td>[kinerase, brownsugar, marcey, grab, resvkbrel...</td>\n",
       "    </tr>\n",
       "    <tr>\n",
       "      <th>...</th>\n",
       "      <td>...</td>\n",
       "      <td>...</td>\n",
       "    </tr>\n",
       "    <tr>\n",
       "      <th>1281</th>\n",
       "      <td>Women/Tops &amp; Blouses/Knit Top</td>\n",
       "      <td>[saphyer, bermuda, moss, tribalaztec, maison, ...</td>\n",
       "    </tr>\n",
       "    <tr>\n",
       "      <th>1282</th>\n",
       "      <td>Women/Tops &amp; Blouses/Other</td>\n",
       "      <td>[suits, karianne, hair, knee, cavaliers, simps...</td>\n",
       "    </tr>\n",
       "    <tr>\n",
       "      <th>1283</th>\n",
       "      <td>Women/Tops &amp; Blouses/Polo Shirt</td>\n",
       "      <td>[women, golf, vapor, fs, gold, blouse, jacket,...</td>\n",
       "    </tr>\n",
       "    <tr>\n",
       "      <th>1284</th>\n",
       "      <td>Women/Tops &amp; Blouses/T-Shirts</td>\n",
       "      <td>[venezia, iteml, satan, frvr, jazzyzz, soldier...</td>\n",
       "    </tr>\n",
       "    <tr>\n",
       "      <th>1285</th>\n",
       "      <td>Women/Tops &amp; Blouses/Tank, Cami</td>\n",
       "      <td>[shoemama, venezia, pinkgray, faith, moto, sho...</td>\n",
       "    </tr>\n",
       "    <tr>\n",
       "      <th>1286</th>\n",
       "      <td>Women/Tops &amp; Blouses/Tunic</td>\n",
       "      <td>[maxazaria, clarksz, bracelets, hair, tunicnwt...</td>\n",
       "    </tr>\n",
       "    <tr>\n",
       "      <th>1287</th>\n",
       "      <td>Women/Tops &amp; Blouses/Turtleneck</td>\n",
       "      <td>[women, winter, gear, vintages, crop, artsy, b...</td>\n",
       "    </tr>\n",
       "    <tr>\n",
       "      <th>1288</th>\n",
       "      <td>Women/Tops &amp; Blouses/Wrap</td>\n",
       "      <td>[xhiloration, item, clearance, soul, pattern, ...</td>\n",
       "    </tr>\n",
       "    <tr>\n",
       "      <th>1289</th>\n",
       "      <td>Women/Underwear/Bras</td>\n",
       "      <td>[kimono, extender, breebree, magzinwi, berlei,...</td>\n",
       "    </tr>\n",
       "    <tr>\n",
       "      <th>1290</th>\n",
       "      <td>Women/Underwear/G-Strings &amp; Thongs</td>\n",
       "      <td>[assless, ck, women, kimono, ramsha, sporty, r...</td>\n",
       "    </tr>\n",
       "    <tr>\n",
       "      <th>1291</th>\n",
       "      <td>Women/Underwear/Other</td>\n",
       "      <td>[kimono, satan, extender, teddyhohoho, print, ...</td>\n",
       "    </tr>\n",
       "    <tr>\n",
       "      <th>1292</th>\n",
       "      <td>Women/Underwear/Panties</td>\n",
       "      <td>[kimono, bralogo, hair, break, print, knee, go...</td>\n",
       "    </tr>\n",
       "    <tr>\n",
       "      <th>1293</th>\n",
       "      <td>Women/Underwear/Thermal Underwear</td>\n",
       "      <td>[women, socks, lifts, print, fs, latex, tummy,...</td>\n",
       "    </tr>\n",
       "    <tr>\n",
       "      <th>1294</th>\n",
       "      <td>Women/Women's Accessories/Belts</td>\n",
       "      <td>[pregnancy, women, yd, tony, michel, bottle, i...</td>\n",
       "    </tr>\n",
       "    <tr>\n",
       "      <th>1295</th>\n",
       "      <td>Women/Women's Accessories/Hair Accessories</td>\n",
       "      <td>[grab, inkwell, dressers, moss, hair, bracelet...</td>\n",
       "    </tr>\n",
       "    <tr>\n",
       "      <th>1296</th>\n",
       "      <td>Women/Women's Accessories/Hats</td>\n",
       "      <td>[hair, break, minna, print, tea, garon, gold, ...</td>\n",
       "    </tr>\n",
       "    <tr>\n",
       "      <th>1297</th>\n",
       "      <td>Women/Women's Accessories/Other</td>\n",
       "      <td>[fitbit, readersglasses, extender, cleaner, ha...</td>\n",
       "    </tr>\n",
       "    <tr>\n",
       "      <th>1298</th>\n",
       "      <td>Women/Women's Accessories/Scarves &amp; Wraps</td>\n",
       "      <td>[headbandscarf, michel, hair, flowery, print, ...</td>\n",
       "    </tr>\n",
       "    <tr>\n",
       "      <th>1299</th>\n",
       "      <td>Women/Women's Accessories/Sunglasses</td>\n",
       "      <td>[grab, cleaner, michel, maru, nectar, break, t...</td>\n",
       "    </tr>\n",
       "    <tr>\n",
       "      <th>1300</th>\n",
       "      <td>Women/Women's Accessories/Wallets</td>\n",
       "      <td>[kimono, bermuda, moss, michel, pinkgray, hand...</td>\n",
       "    </tr>\n",
       "    <tr>\n",
       "      <th>1301</th>\n",
       "      <td>Women/Women's Accessories/Watches</td>\n",
       "      <td>[fitbit, beautifulbutterfly, bracelets, darci,...</td>\n",
       "    </tr>\n",
       "    <tr>\n",
       "      <th>1302</th>\n",
       "      <td>Women/Women's Handbags/Backpack Style</td>\n",
       "      <td>[ha, nectar, jessa, veronica, elopecolorado, l...</td>\n",
       "    </tr>\n",
       "    <tr>\n",
       "      <th>1303</th>\n",
       "      <td>Women/Women's Handbags/Baguette</td>\n",
       "      <td>[dolcegabbana, women, parker, purse, dee, tayl...</td>\n",
       "    </tr>\n",
       "    <tr>\n",
       "      <th>1304</th>\n",
       "      <td>Women/Women's Handbags/Cosmetic Bags</td>\n",
       "      <td>[grab, hair, bracelets, charcoal, treatment, c...</td>\n",
       "    </tr>\n",
       "    <tr>\n",
       "      <th>1305</th>\n",
       "      <td>Women/Women's Handbags/Hobo</td>\n",
       "      <td>[cognac, michel, clearance, handbag, pattern, ...</td>\n",
       "    </tr>\n",
       "    <tr>\n",
       "      <th>1306</th>\n",
       "      <td>Women/Women's Handbags/Messenger &amp; Crossbody</td>\n",
       "      <td>[venezia, ramey, bermuda, moss, michel, extend...</td>\n",
       "    </tr>\n",
       "    <tr>\n",
       "      <th>1307</th>\n",
       "      <td>Women/Women's Handbags/Other</td>\n",
       "      <td>[women, cleaner, bottle, patricia, man, byo, b...</td>\n",
       "    </tr>\n",
       "    <tr>\n",
       "      <th>1308</th>\n",
       "      <td>Women/Women's Handbags/Satchel</td>\n",
       "      <td>[grab, kimono, bermuda, moss, maddox, hair, vi...</td>\n",
       "    </tr>\n",
       "    <tr>\n",
       "      <th>1309</th>\n",
       "      <td>Women/Women's Handbags/Shoulder Bag</td>\n",
       "      <td>[grab, brag, kimono, strand, michel, maru, sce...</td>\n",
       "    </tr>\n",
       "    <tr>\n",
       "      <th>1310</th>\n",
       "      <td>Women/Women's Handbags/Totes &amp; Shoppers</td>\n",
       "      <td>[grab, moss, michel, rocket, bracelets, break,...</td>\n",
       "    </tr>\n",
       "  </tbody>\n",
       "</table>\n",
       "<p>1310 rows × 2 columns</p>\n",
       "</div>"
      ],
      "text/plain": [
       "                                     category_name  \\\n",
       "0                          Beauty/Bath & Body/Bath   \n",
       "1           Beauty/Bath & Body/Bathing Accessories   \n",
       "2                     Beauty/Bath & Body/Cleansers   \n",
       "3                         Beauty/Bath & Body/Other   \n",
       "4      Beauty/Bath & Body/Scrubs & Body Treatments   \n",
       "5                          Beauty/Bath & Body/Sets   \n",
       "6           Beauty/Fragrance/Candles & Home Scents   \n",
       "7                            Beauty/Fragrance/Kids   \n",
       "8                             Beauty/Fragrance/Men   \n",
       "9                           Beauty/Fragrance/Other   \n",
       "10                           Beauty/Fragrance/Sets   \n",
       "11                          Beauty/Fragrance/Women   \n",
       "12                   Beauty/Hair Care/Conditioners   \n",
       "13        Beauty/Hair Care/Hair & Scalp Treatments   \n",
       "14                     Beauty/Hair Care/Hair Color   \n",
       "15             Beauty/Hair Care/Hair Loss Products   \n",
       "16       Beauty/Hair Care/Hair Perms & Texturizers   \n",
       "17                  Beauty/Hair Care/Hair Relaxers   \n",
       "18                          Beauty/Hair Care/Other   \n",
       "19     Beauty/Hair Care/Shampoo & Conditioner Sets   \n",
       "20       Beauty/Hair Care/Shampoo Plus Conditioner   \n",
       "21                       Beauty/Hair Care/Shampoos   \n",
       "22               Beauty/Hair Care/Styling Products   \n",
       "23                  Beauty/Hair Care/Styling Tools   \n",
       "24                              Beauty/Makeup/Body   \n",
       "25             Beauty/Makeup/Brushes & Applicators   \n",
       "26                              Beauty/Makeup/Eyes   \n",
       "27                              Beauty/Makeup/Face   \n",
       "28                              Beauty/Makeup/Lips   \n",
       "29                   Beauty/Makeup/Makeup Palettes   \n",
       "...                                            ...   \n",
       "1281                 Women/Tops & Blouses/Knit Top   \n",
       "1282                    Women/Tops & Blouses/Other   \n",
       "1283               Women/Tops & Blouses/Polo Shirt   \n",
       "1284                 Women/Tops & Blouses/T-Shirts   \n",
       "1285               Women/Tops & Blouses/Tank, Cami   \n",
       "1286                    Women/Tops & Blouses/Tunic   \n",
       "1287               Women/Tops & Blouses/Turtleneck   \n",
       "1288                     Women/Tops & Blouses/Wrap   \n",
       "1289                          Women/Underwear/Bras   \n",
       "1290            Women/Underwear/G-Strings & Thongs   \n",
       "1291                         Women/Underwear/Other   \n",
       "1292                       Women/Underwear/Panties   \n",
       "1293             Women/Underwear/Thermal Underwear   \n",
       "1294               Women/Women's Accessories/Belts   \n",
       "1295    Women/Women's Accessories/Hair Accessories   \n",
       "1296                Women/Women's Accessories/Hats   \n",
       "1297               Women/Women's Accessories/Other   \n",
       "1298     Women/Women's Accessories/Scarves & Wraps   \n",
       "1299          Women/Women's Accessories/Sunglasses   \n",
       "1300             Women/Women's Accessories/Wallets   \n",
       "1301             Women/Women's Accessories/Watches   \n",
       "1302         Women/Women's Handbags/Backpack Style   \n",
       "1303               Women/Women's Handbags/Baguette   \n",
       "1304          Women/Women's Handbags/Cosmetic Bags   \n",
       "1305                   Women/Women's Handbags/Hobo   \n",
       "1306  Women/Women's Handbags/Messenger & Crossbody   \n",
       "1307                  Women/Women's Handbags/Other   \n",
       "1308                Women/Women's Handbags/Satchel   \n",
       "1309           Women/Women's Handbags/Shoulder Bag   \n",
       "1310       Women/Women's Handbags/Totes & Shoppers   \n",
       "\n",
       "                                                   name  \n",
       "0     [shoemama, spongell, soapgreat, extender, rock...  \n",
       "1     [women, item, break, hardware, print, cloth, b...  \n",
       "2     [crysrockz, grab, halloween, iloveshop, nectar...  \n",
       "3     [pregnancy, women, tests, hair, bounty, print,...  \n",
       "4     [skies, game, extender, cleaner, packages, ite...  \n",
       "5     [poshe, scentsy, clearance, hair, castaway, br...  \n",
       "6     [grab, ramey, crazycl, packages, rocket, scent...  \n",
       "7     [galaxy, swirl, summer, tender, salad, effect,...  \n",
       "8     [dolcegabbana, ck, women, suits, bijan, brooks...  \n",
       "9     [euphoria, taylor, sephora, living, bottles, s...  \n",
       "10    [game, promesse, luxury, simpson, bogo, basket...  \n",
       "11    [michel, versacejimmydonna, faith, labo, donna...  \n",
       "12    [hair, biosilk, retrend, conditioners, cantu, ...  \n",
       "13    [women, palmers, bottle, nectar, morroccanoil,...  \n",
       "14    [women, neka, hair, berry, conditioners, cape,...  \n",
       "15    [nixion, latisse, sugar, women, bottle, repair...  \n",
       "16    [styles, salon, base, home, hair, household, t...  \n",
       "17    [oil, anthony, relaxer, blow, style, breakage,...  \n",
       "18    [reimy, grab, sugar, ombre, winter, sam, freet...  \n",
       "19    [chai, item, hair, crack, biosilk, quidad, sen...  \n",
       "20    [coarse, biosilk, pump, genius, growth, panten...  \n",
       "21    [poshe, hair, biosilk, soul, conditioners, uni...  \n",
       "22    [extender, trtmnt, mayonnaise, hair, break, te...  \n",
       "23    [barber, clearance, hair, cape, stylewinder, c...  \n",
       "24    [tut, halocouture, clearance, hair, jamberry, ...  \n",
       "25    [women, teardrop, techniques, beautyblenders, ...  \n",
       "26    [michel, kayyyy, yammy, collossal, newbare, ad...  \n",
       "27    [faith, donna, charcoal, cocoa, treatment, kbr...  \n",
       "28    [clourpop, demand, lipstickbruise, michel, pai...  \n",
       "29    [kinerase, brownsugar, marcey, grab, resvkbrel...  \n",
       "...                                                 ...  \n",
       "1281  [saphyer, bermuda, moss, tribalaztec, maison, ...  \n",
       "1282  [suits, karianne, hair, knee, cavaliers, simps...  \n",
       "1283  [women, golf, vapor, fs, gold, blouse, jacket,...  \n",
       "1284  [venezia, iteml, satan, frvr, jazzyzz, soldier...  \n",
       "1285  [shoemama, venezia, pinkgray, faith, moto, sho...  \n",
       "1286  [maxazaria, clarksz, bracelets, hair, tunicnwt...  \n",
       "1287  [women, winter, gear, vintages, crop, artsy, b...  \n",
       "1288  [xhiloration, item, clearance, soul, pattern, ...  \n",
       "1289  [kimono, extender, breebree, magzinwi, berlei,...  \n",
       "1290  [assless, ck, women, kimono, ramsha, sporty, r...  \n",
       "1291  [kimono, satan, extender, teddyhohoho, print, ...  \n",
       "1292  [kimono, bralogo, hair, break, print, knee, go...  \n",
       "1293  [women, socks, lifts, print, fs, latex, tummy,...  \n",
       "1294  [pregnancy, women, yd, tony, michel, bottle, i...  \n",
       "1295  [grab, inkwell, dressers, moss, hair, bracelet...  \n",
       "1296  [hair, break, minna, print, tea, garon, gold, ...  \n",
       "1297  [fitbit, readersglasses, extender, cleaner, ha...  \n",
       "1298  [headbandscarf, michel, hair, flowery, print, ...  \n",
       "1299  [grab, cleaner, michel, maru, nectar, break, t...  \n",
       "1300  [kimono, bermuda, moss, michel, pinkgray, hand...  \n",
       "1301  [fitbit, beautifulbutterfly, bracelets, darci,...  \n",
       "1302  [ha, nectar, jessa, veronica, elopecolorado, l...  \n",
       "1303  [dolcegabbana, women, parker, purse, dee, tayl...  \n",
       "1304  [grab, hair, bracelets, charcoal, treatment, c...  \n",
       "1305  [cognac, michel, clearance, handbag, pattern, ...  \n",
       "1306  [venezia, ramey, bermuda, moss, michel, extend...  \n",
       "1307  [women, cleaner, bottle, patricia, man, byo, b...  \n",
       "1308  [grab, kimono, bermuda, moss, maddox, hair, vi...  \n",
       "1309  [grab, brag, kimono, strand, michel, maru, sce...  \n",
       "1310  [grab, moss, michel, rocket, bracelets, break,...  \n",
       "\n",
       "[1310 rows x 2 columns]"
      ]
     },
     "execution_count": 635,
     "metadata": {},
     "output_type": "execute_result"
    }
   ],
   "source": [
    "#len(category_ref_df)\n",
    "category_ref_df"
   ]
  },
  {
   "cell_type": "code",
   "execution_count": 21,
   "metadata": {},
   "outputs": [
    {
     "name": "stdout",
     "output_type": "stream",
     "text": [
      "showing info https://raw.githubusercontent.com/nltk/nltk_data/gh-pages/index.xml\n"
     ]
    },
    {
     "data": {
      "text/plain": [
       "True"
      ]
     },
     "execution_count": 21,
     "metadata": {},
     "output_type": "execute_result"
    }
   ],
   "source": [
    "import nltk\n",
    "nltk.download()"
   ]
  },
  {
   "cell_type": "markdown",
   "metadata": {
    "collapsed": true
   },
   "source": [
    "def cleanUnwanted(row):\n",
    "    name = row['name']\n",
    "    name = re.sub('[^A-Za-z ]+', '',name)\n",
    "    tokens = nltk.word_tokenize(name)\n",
    "    tokens\n",
    "    tagged = nltk.pos_tag(tokens)\n",
    "    cleansed = ''\n",
    "    for v,k in tagged:\n",
    "        if k == 'NN' or k == 'NNP' or k == 'NNPS' or k == 'NNS':\n",
    "            cleansed=cleansed+v+' '\n",
    "    return cleansed.rstrip()"
   ]
  },
  {
   "cell_type": "code",
   "execution_count": 94,
   "metadata": {
    "collapsed": true
   },
   "outputs": [],
   "source": [
    "#df_split1.to_csv(\"D:/PythonSamples/Mercari/category_ref_df.csv\")"
   ]
  },
  {
   "cell_type": "code",
   "execution_count": null,
   "metadata": {
    "collapsed": true
   },
   "outputs": [],
   "source": [
    "#category_ref_df['cl_name'] = category_ref_df.apply(cleanUnwanted, axis = 1)"
   ]
  },
  {
   "cell_type": "code",
   "execution_count": 77,
   "metadata": {},
   "outputs": [
    {
     "data": {
      "text/html": [
       "<div>\n",
       "<style>\n",
       "    .dataframe thead tr:only-child th {\n",
       "        text-align: right;\n",
       "    }\n",
       "\n",
       "    .dataframe thead th {\n",
       "        text-align: left;\n",
       "    }\n",
       "\n",
       "    .dataframe tbody tr th {\n",
       "        vertical-align: top;\n",
       "    }\n",
       "</style>\n",
       "<table border=\"1\" class=\"dataframe\">\n",
       "  <thead>\n",
       "    <tr style=\"text-align: right;\">\n",
       "      <th></th>\n",
       "      <th>category_name</th>\n",
       "      <th>name</th>\n",
       "    </tr>\n",
       "  </thead>\n",
       "  <tbody>\n",
       "    <tr>\n",
       "      <th>832</th>\n",
       "      <td>NoValue</td>\n",
       "      <td>'Bundle', '3', 'Nora', 'Roberts', 'Books', 'AC...</td>\n",
       "    </tr>\n",
       "  </tbody>\n",
       "</table>\n",
       "</div>"
      ],
      "text/plain": [
       "    category_name                                               name\n",
       "832       NoValue  'Bundle', '3', 'Nora', 'Roberts', 'Books', 'AC..."
      ]
     },
     "execution_count": 77,
     "metadata": {},
     "output_type": "execute_result"
    }
   ],
   "source": [
    "category_ref_df.loc[category_ref_df['category_name'] == 'NoValue']"
   ]
  },
  {
   "cell_type": "code",
   "execution_count": 631,
   "metadata": {
    "collapsed": true
   },
   "outputs": [],
   "source": [
    "category_ref_df = category_ref_df[category_ref_df.category_name != 'NoValue']"
   ]
  },
  {
   "cell_type": "code",
   "execution_count": 78,
   "metadata": {},
   "outputs": [
    {
     "data": {
      "text/plain": [
       "1311"
      ]
     },
     "execution_count": 78,
     "metadata": {},
     "output_type": "execute_result"
    }
   ],
   "source": [
    "len(category_ref_df)"
   ]
  },
  {
   "cell_type": "code",
   "execution_count": 46,
   "metadata": {
    "collapsed": true
   },
   "outputs": [],
   "source": [
    "#category_ref_df"
   ]
  },
  {
   "cell_type": "code",
   "execution_count": 101,
   "metadata": {
    "collapsed": true
   },
   "outputs": [],
   "source": [
    "M = train_df[['category_name','item_description']]\n",
    "N = test_df[['category_name','item_description']]\n",
    "\n",
    "category_des_df = M\n",
    "category_des_df = category_des_df.append(N)"
   ]
  },
  {
   "cell_type": "code",
   "execution_count": 102,
   "metadata": {},
   "outputs": [
    {
     "data": {
      "text/plain": [
       "category_name       9385\n",
       "item_description       4\n",
       "dtype: int64"
      ]
     },
     "execution_count": 102,
     "metadata": {},
     "output_type": "execute_result"
    }
   ],
   "source": [
    "category_des_df.isnull().sum()"
   ]
  },
  {
   "cell_type": "code",
   "execution_count": 103,
   "metadata": {
    "collapsed": true
   },
   "outputs": [],
   "source": [
    "category_des_df['category_name'].fillna('NoValue', inplace=True)"
   ]
  },
  {
   "cell_type": "code",
   "execution_count": 108,
   "metadata": {
    "collapsed": true
   },
   "outputs": [],
   "source": [
    "category_des_df['item_description'] = category_des_df['item_description'].astype(str).str.split(' ').apply(list)"
   ]
  },
  {
   "cell_type": "code",
   "execution_count": 234,
   "metadata": {
    "collapsed": true
   },
   "outputs": [],
   "source": [
    "category_des_ref = category_des_df.groupby('category_name')['item_description'].apply(list)"
   ]
  },
  {
   "cell_type": "code",
   "execution_count": 222,
   "metadata": {
    "collapsed": true
   },
   "outputs": [],
   "source": [
    "#category_des_ref = category_des_df.groupby('category_name')['item_description'].apply(str)"
   ]
  },
  {
   "cell_type": "code",
   "execution_count": 236,
   "metadata": {
    "collapsed": true
   },
   "outputs": [],
   "source": [
    "#category_des_ref"
   ]
  },
  {
   "cell_type": "code",
   "execution_count": 527,
   "metadata": {
    "collapsed": true
   },
   "outputs": [],
   "source": [
    "category_des_ref_df = pd.DataFrame({'category_name':category_des_ref.index, 'item_description':category_des_ref.values}) "
   ]
  },
  {
   "cell_type": "code",
   "execution_count": 528,
   "metadata": {},
   "outputs": [
    {
     "data": {
      "text/plain": [
       "pandas.core.series.Series"
      ]
     },
     "execution_count": 528,
     "metadata": {},
     "output_type": "execute_result"
    }
   ],
   "source": [
    "type(category_des_ref_df['item_description'])"
   ]
  },
  {
   "cell_type": "code",
   "execution_count": 529,
   "metadata": {
    "collapsed": true
   },
   "outputs": [],
   "source": [
    "#category_des_ref_df['item_description'] = category_des_ref_df['item_description'].astype(str).str.replace('\\[','')\n",
    "#category_des_ref_df['item_description'] = category_des_ref_df['item_description'].str.replace('\\]','')"
   ]
  },
  {
   "cell_type": "code",
   "execution_count": 530,
   "metadata": {
    "collapsed": true
   },
   "outputs": [],
   "source": [
    "#category_des_ref_df"
   ]
  },
  {
   "cell_type": "code",
   "execution_count": 531,
   "metadata": {
    "collapsed": true
   },
   "outputs": [],
   "source": [
    "from functools import reduce\n",
    "def flattenlist(row):\n",
    "    listoflist = row['item_description']\n",
    "    #finallist = reduce(lambda x,y: x+y,listoflist)\n",
    "    finallist = ' '.join(str(r) for v in listoflist for r in v)\n",
    "    #print(row['category_name'])\n",
    "    return finallist"
   ]
  },
  {
   "cell_type": "code",
   "execution_count": 532,
   "metadata": {
    "collapsed": true
   },
   "outputs": [],
   "source": [
    "category_des_ref_df['item_description'] = category_des_ref_df.apply(flattenlist, axis = 1)\n",
    "#category_des_ref_df['item_description']"
   ]
  },
  {
   "cell_type": "code",
   "execution_count": 533,
   "metadata": {
    "collapsed": true
   },
   "outputs": [],
   "source": [
    "category_des_ref_df['item_description'] = category_des_ref_df['item_description'].str.lower()"
   ]
  },
  {
   "cell_type": "code",
   "execution_count": 534,
   "metadata": {
    "collapsed": true
   },
   "outputs": [],
   "source": [
    "#test_category_des_ref_df = category_des_ref_df"
   ]
  },
  {
   "cell_type": "code",
   "execution_count": 535,
   "metadata": {
    "collapsed": true
   },
   "outputs": [],
   "source": [
    "def removeDup(row):\n",
    "    list_val = row('item_description')\n",
    "    list_val = list_val.tolist()\n",
    "    finallist = set(list_val)\n",
    "    return finallist\n",
    "\n",
    "def removeDupl(text):\n",
    "    #print(text)\n",
    "    list_ = re.sub('[^A-Za-z ]+', '',text)\n",
    "    list_val = list_.split(' ')\n",
    "    #print(list_val)\n",
    "    finallist = list(set(list_val))\n",
    "    #print(finallist)\n",
    "    #final = finallist#[re.sub('[^a-zA-Z0-9]+', '', _) for _ in finallist]\n",
    "    #print(final)\n",
    "    #final_list = list(filter(None, final))\n",
    "    final_list1 = []\n",
    "    for i in finallist:\n",
    "        #print(i)\n",
    "        if len(i) > 1:\n",
    "            final_list1.append(i)\n",
    "    return final_list1\n"
   ]
  },
  {
   "cell_type": "code",
   "execution_count": 536,
   "metadata": {
    "collapsed": true
   },
   "outputs": [],
   "source": [
    "category_des_ref_df['item_description'] = category_des_ref_df['item_description'].apply(lambda x: removeDupl(x))"
   ]
  },
  {
   "cell_type": "code",
   "execution_count": 365,
   "metadata": {
    "collapsed": true
   },
   "outputs": [],
   "source": [
    "#category_des_ref_df['item_description'] = category_des_ref_df['item_description'].astype(str).str.split(',')#.apply(list)"
   ]
  },
  {
   "cell_type": "code",
   "execution_count": 366,
   "metadata": {
    "collapsed": true
   },
   "outputs": [],
   "source": [
    "#category_des_ref_df['item_description'] = category_des_ref_df.apply(removeDup,axis = 1)"
   ]
  },
  {
   "cell_type": "code",
   "execution_count": 537,
   "metadata": {
    "collapsed": true
   },
   "outputs": [],
   "source": [
    "def cleanUnwantedDesc(row):\n",
    "    item_desc = str(row)\n",
    "    item_desc = re.sub('[^A-Za-z ]+', '',item_desc)\n",
    "    tokens = nltk.word_tokenize(item_desc)\n",
    "    tokens\n",
    "    tagged = nltk.pos_tag(tokens)\n",
    "    cleansed = ''\n",
    "    for v,k in tagged:\n",
    "        if k == 'NN' or k == 'NNP' or k == 'NNPS' or k == 'NNS':\n",
    "            cleansed=cleansed+v+' '\n",
    "    return cleansed.rstrip().split()"
   ]
  },
  {
   "cell_type": "code",
   "execution_count": 539,
   "metadata": {
    "collapsed": true
   },
   "outputs": [],
   "source": [
    "category_des_ref_df['item_description'] = category_des_ref_df['item_description'].apply(lambda x: cleanUnwantedDesc(x))"
   ]
  },
  {
   "cell_type": "code",
   "execution_count": 639,
   "metadata": {
    "collapsed": true
   },
   "outputs": [],
   "source": [
    "category_des_ref_df = category_des_ref_df[category_des_ref_df.category_name != 'NoValue']"
   ]
  },
  {
   "cell_type": "code",
   "execution_count": 541,
   "metadata": {
    "collapsed": true
   },
   "outputs": [],
   "source": [
    "#category_des_ref_df#['item_description']"
   ]
  },
  {
   "cell_type": "code",
   "execution_count": 508,
   "metadata": {
    "collapsed": true
   },
   "outputs": [],
   "source": [
    "#category_desc_ref_df.to_csv(\"D:/PythonSamples/Mercari/category_des_ref_df.csv\")"
   ]
  },
  {
   "cell_type": "code",
   "execution_count": 487,
   "metadata": {
    "collapsed": true
   },
   "outputs": [],
   "source": [
    "#te = train_df[train_df['brand_name'].isnull()]#train_df[train_df['category_name'].isnull()]\n",
    "#te[te['category_name'].isnull()]\n",
    "train_df_price = train_df[train_df['category_name'].isnull()]\n",
    "test_df_price = test_df[test_df['category_name'].isnull()]"
   ]
  },
  {
   "cell_type": "code",
   "execution_count": 608,
   "metadata": {},
   "outputs": [
    {
     "data": {
      "text/html": [
       "<div>\n",
       "<style>\n",
       "    .dataframe thead tr:only-child th {\n",
       "        text-align: right;\n",
       "    }\n",
       "\n",
       "    .dataframe thead th {\n",
       "        text-align: left;\n",
       "    }\n",
       "\n",
       "    .dataframe tbody tr th {\n",
       "        vertical-align: top;\n",
       "    }\n",
       "</style>\n",
       "<table border=\"1\" class=\"dataframe\">\n",
       "  <thead>\n",
       "    <tr style=\"text-align: right;\">\n",
       "      <th></th>\n",
       "      <th>test_id</th>\n",
       "      <th>name</th>\n",
       "      <th>item_condition_id</th>\n",
       "      <th>category_name</th>\n",
       "      <th>brand_name</th>\n",
       "      <th>price</th>\n",
       "      <th>shipping</th>\n",
       "      <th>item_description</th>\n",
       "    </tr>\n",
       "  </thead>\n",
       "  <tbody>\n",
       "    <tr>\n",
       "      <th>217</th>\n",
       "      <td>217</td>\n",
       "      <td>Lularoe XS Carly Dress</td>\n",
       "      <td>3</td>\n",
       "      <td>NaN</td>\n",
       "      <td>LuLaRoe</td>\n",
       "      <td>999999.0</td>\n",
       "      <td>0</td>\n",
       "      <td>XS Lularoe Carly Dress. Has peach tone color s...</td>\n",
       "    </tr>\n",
       "    <tr>\n",
       "      <th>555</th>\n",
       "      <td>555</td>\n",
       "      <td>Victoria's Secret VerySexy Touch Perfume</td>\n",
       "      <td>2</td>\n",
       "      <td>NaN</td>\n",
       "      <td>Victoria's Secret</td>\n",
       "      <td>999999.0</td>\n",
       "      <td>0</td>\n",
       "      <td>No description yet</td>\n",
       "    </tr>\n",
       "    <tr>\n",
       "      <th>702</th>\n",
       "      <td>702</td>\n",
       "      <td>Men's All Black Low Top Converse</td>\n",
       "      <td>3</td>\n",
       "      <td>NaN</td>\n",
       "      <td>Converse</td>\n",
       "      <td>999999.0</td>\n",
       "      <td>0</td>\n",
       "      <td>Men's Converse, size 11, all black. They have ...</td>\n",
       "    </tr>\n",
       "    <tr>\n",
       "      <th>1110</th>\n",
       "      <td>1110</td>\n",
       "      <td>92 Polly Pocket Jewel Palace/Ice Kingdom</td>\n",
       "      <td>3</td>\n",
       "      <td>NaN</td>\n",
       "      <td>MattelÂ®</td>\n",
       "      <td>999999.0</td>\n",
       "      <td>0</td>\n",
       "      <td>Set of 2. In good condition. Both are complete...</td>\n",
       "    </tr>\n",
       "    <tr>\n",
       "      <th>1476</th>\n",
       "      <td>1476</td>\n",
       "      <td>Bundle for Vanessa Wieseler</td>\n",
       "      <td>1</td>\n",
       "      <td>NaN</td>\n",
       "      <td>Avent</td>\n",
       "      <td>999999.0</td>\n",
       "      <td>0</td>\n",
       "      <td>Avent Bottle Warmer Brand New Open Package [rm...</td>\n",
       "    </tr>\n",
       "    <tr>\n",
       "      <th>1586</th>\n",
       "      <td>1586</td>\n",
       "      <td>Mens Shake Weight</td>\n",
       "      <td>2</td>\n",
       "      <td>NaN</td>\n",
       "      <td>NaN</td>\n",
       "      <td>999999.0</td>\n",
       "      <td>0</td>\n",
       "      <td>No description yet</td>\n",
       "    </tr>\n",
       "    <tr>\n",
       "      <th>1983</th>\n",
       "      <td>1983</td>\n",
       "      <td>Knee Sleeves Workout XS</td>\n",
       "      <td>1</td>\n",
       "      <td>NaN</td>\n",
       "      <td>NaN</td>\n",
       "      <td>999999.0</td>\n",
       "      <td>0</td>\n",
       "      <td>XS brand new in package</td>\n",
       "    </tr>\n",
       "    <tr>\n",
       "      <th>2317</th>\n",
       "      <td>2317</td>\n",
       "      <td>Honeywell Money Lockbox</td>\n",
       "      <td>3</td>\n",
       "      <td>NaN</td>\n",
       "      <td>NaN</td>\n",
       "      <td>999999.0</td>\n",
       "      <td>0</td>\n",
       "      <td>No description yet</td>\n",
       "    </tr>\n",
       "    <tr>\n",
       "      <th>2376</th>\n",
       "      <td>2376</td>\n",
       "      <td>#84 Wholesale Lot Workout Clothing 30 Pc</td>\n",
       "      <td>3</td>\n",
       "      <td>NaN</td>\n",
       "      <td>NaN</td>\n",
       "      <td>999999.0</td>\n",
       "      <td>0</td>\n",
       "      <td>Bin Pickers from YT wholesale lot #84. All wom...</td>\n",
       "    </tr>\n",
       "    <tr>\n",
       "      <th>2508</th>\n",
       "      <td>2508</td>\n",
       "      <td>Hollister sweatpants</td>\n",
       "      <td>3</td>\n",
       "      <td>NaN</td>\n",
       "      <td>Hollister</td>\n",
       "      <td>999999.0</td>\n",
       "      <td>0</td>\n",
       "      <td>Juniors small in great condition. Very soft, c...</td>\n",
       "    </tr>\n",
       "    <tr>\n",
       "      <th>2545</th>\n",
       "      <td>2545</td>\n",
       "      <td>Snow White &amp; the Seven Dwarves</td>\n",
       "      <td>3</td>\n",
       "      <td>NaN</td>\n",
       "      <td>Fisher-Price</td>\n",
       "      <td>999999.0</td>\n",
       "      <td>0</td>\n",
       "      <td>Fisher-Price Little People Snow White and the ...</td>\n",
       "    </tr>\n",
       "    <tr>\n",
       "      <th>2797</th>\n",
       "      <td>2797</td>\n",
       "      <td>Nice Black Purse With Strap</td>\n",
       "      <td>2</td>\n",
       "      <td>NaN</td>\n",
       "      <td>NaN</td>\n",
       "      <td>999999.0</td>\n",
       "      <td>0</td>\n",
       "      <td>Very nice Forever21 black purse with removable...</td>\n",
       "    </tr>\n",
       "    <tr>\n",
       "      <th>2848</th>\n",
       "      <td>2848</td>\n",
       "      <td>3 FOR [rm] bundle!</td>\n",
       "      <td>1</td>\n",
       "      <td>NaN</td>\n",
       "      <td>NaN</td>\n",
       "      <td>999999.0</td>\n",
       "      <td>0</td>\n",
       "      <td>Brand new! Grey cotton crop top Two different ...</td>\n",
       "    </tr>\n",
       "    <tr>\n",
       "      <th>2936</th>\n",
       "      <td>2936</td>\n",
       "      <td>Juicy Couture 2T outfit</td>\n",
       "      <td>1</td>\n",
       "      <td>NaN</td>\n",
       "      <td>Juicy Couture</td>\n",
       "      <td>999999.0</td>\n",
       "      <td>0</td>\n",
       "      <td>Nwt Juicy Couture girls 2T outfit</td>\n",
       "    </tr>\n",
       "    <tr>\n",
       "      <th>2937</th>\n",
       "      <td>2937</td>\n",
       "      <td>Nurse Costume</td>\n",
       "      <td>2</td>\n",
       "      <td>NaN</td>\n",
       "      <td>NaN</td>\n",
       "      <td>999999.0</td>\n",
       "      <td>1</td>\n",
       "      <td>Size small</td>\n",
       "    </tr>\n",
       "    <tr>\n",
       "      <th>3128</th>\n",
       "      <td>3128</td>\n",
       "      <td>2 sushi patches</td>\n",
       "      <td>1</td>\n",
       "      <td>NaN</td>\n",
       "      <td>NaN</td>\n",
       "      <td>999999.0</td>\n",
       "      <td>1</td>\n",
       "      <td>fast shipping</td>\n",
       "    </tr>\n",
       "    <tr>\n",
       "      <th>3184</th>\n",
       "      <td>3184</td>\n",
       "      <td>(5) Nike boys t-shirts size 6</td>\n",
       "      <td>4</td>\n",
       "      <td>NaN</td>\n",
       "      <td>Nike</td>\n",
       "      <td>999999.0</td>\n",
       "      <td>0</td>\n",
       "      <td>These have been worn, some of the lettering on...</td>\n",
       "    </tr>\n",
       "    <tr>\n",
       "      <th>3977</th>\n",
       "      <td>3977</td>\n",
       "      <td>Retro Jordan Grape 5</td>\n",
       "      <td>3</td>\n",
       "      <td>NaN</td>\n",
       "      <td>Jordans</td>\n",
       "      <td>999999.0</td>\n",
       "      <td>1</td>\n",
       "      <td>Excellent condition. Only worn a couple times....</td>\n",
       "    </tr>\n",
       "    <tr>\n",
       "      <th>4083</th>\n",
       "      <td>4083</td>\n",
       "      <td>Reserved SLIME Bundle</td>\n",
       "      <td>1</td>\n",
       "      <td>NaN</td>\n",
       "      <td>Elmers</td>\n",
       "      <td>999999.0</td>\n",
       "      <td>1</td>\n",
       "      <td>4 oz. Supernova Slime 4 oz. White Butter Slime</td>\n",
       "    </tr>\n",
       "    <tr>\n",
       "      <th>4655</th>\n",
       "      <td>4655</td>\n",
       "      <td>HOLLISTER JEAN SHORTS</td>\n",
       "      <td>3</td>\n",
       "      <td>NaN</td>\n",
       "      <td>NaN</td>\n",
       "      <td>999999.0</td>\n",
       "      <td>0</td>\n",
       "      <td>No description yet</td>\n",
       "    </tr>\n",
       "    <tr>\n",
       "      <th>4751</th>\n",
       "      <td>4751</td>\n",
       "      <td>Boyfriend Sweatpants- Thin</td>\n",
       "      <td>3</td>\n",
       "      <td>NaN</td>\n",
       "      <td>PINK</td>\n",
       "      <td>999999.0</td>\n",
       "      <td>0</td>\n",
       "      <td>No description yet</td>\n",
       "    </tr>\n",
       "    <tr>\n",
       "      <th>4887</th>\n",
       "      <td>4887</td>\n",
       "      <td>Bundle For 2 Items</td>\n",
       "      <td>1</td>\n",
       "      <td>NaN</td>\n",
       "      <td>NaN</td>\n",
       "      <td>999999.0</td>\n",
       "      <td>0</td>\n",
       "      <td>Includes nine new sheets size 12*10 Includes a...</td>\n",
       "    </tr>\n",
       "    <tr>\n",
       "      <th>6102</th>\n",
       "      <td>6102</td>\n",
       "      <td>Legacy Power Rangers Morpher</td>\n",
       "      <td>3</td>\n",
       "      <td>NaN</td>\n",
       "      <td>Bandai</td>\n",
       "      <td>999999.0</td>\n",
       "      <td>0</td>\n",
       "      <td>-full metal morpher including all pieces -take...</td>\n",
       "    </tr>\n",
       "    <tr>\n",
       "      <th>6304</th>\n",
       "      <td>6304</td>\n",
       "      <td>New White Converse Shoes</td>\n",
       "      <td>2</td>\n",
       "      <td>NaN</td>\n",
       "      <td>Converse</td>\n",
       "      <td>999999.0</td>\n",
       "      <td>0</td>\n",
       "      <td>â€¢ NWOT â€¢ Never worn â€¢ Super clean</td>\n",
       "    </tr>\n",
       "    <tr>\n",
       "      <th>6926</th>\n",
       "      <td>6926</td>\n",
       "      <td>New L'orÃ©al Mascara &amp; Eyeliner</td>\n",
       "      <td>1</td>\n",
       "      <td>NaN</td>\n",
       "      <td>L'Oreal</td>\n",
       "      <td>999999.0</td>\n",
       "      <td>1</td>\n",
       "      <td>Brand New! L'OrÃ©al voluminous black mascara &amp;...</td>\n",
       "    </tr>\n",
       "    <tr>\n",
       "      <th>7004</th>\n",
       "      <td>7004</td>\n",
       "      <td>Thirty One Bag With Bow!</td>\n",
       "      <td>3</td>\n",
       "      <td>NaN</td>\n",
       "      <td>NaN</td>\n",
       "      <td>999999.0</td>\n",
       "      <td>0</td>\n",
       "      <td>I have a lot of likes on this one so get it wh...</td>\n",
       "    </tr>\n",
       "    <tr>\n",
       "      <th>7016</th>\n",
       "      <td>7016</td>\n",
       "      <td>Knit Button Boot Cuffs</td>\n",
       "      <td>1</td>\n",
       "      <td>NaN</td>\n",
       "      <td>NaN</td>\n",
       "      <td>999999.0</td>\n",
       "      <td>1</td>\n",
       "      <td>3 pairs new in package/never worn 1 pair grey ...</td>\n",
       "    </tr>\n",
       "    <tr>\n",
       "      <th>7301</th>\n",
       "      <td>7301</td>\n",
       "      <td>ON HOLD** Pandora crown silver and cz</td>\n",
       "      <td>2</td>\n",
       "      <td>NaN</td>\n",
       "      <td>PANDORA</td>\n",
       "      <td>999999.0</td>\n",
       "      <td>1</td>\n",
       "      <td>Authentic Pandora silver crown charm. May be u...</td>\n",
       "    </tr>\n",
       "    <tr>\n",
       "      <th>7345</th>\n",
       "      <td>7345</td>\n",
       "      <td>Purple and Gold \"A\" Bookmark</td>\n",
       "      <td>3</td>\n",
       "      <td>NaN</td>\n",
       "      <td>NaN</td>\n",
       "      <td>999999.0</td>\n",
       "      <td>0</td>\n",
       "      <td>Paid [rm] for this item at Barnes and noble. G...</td>\n",
       "    </tr>\n",
       "    <tr>\n",
       "      <th>7396</th>\n",
       "      <td>7396</td>\n",
       "      <td>Cute olive green hoodie and joggers</td>\n",
       "      <td>3</td>\n",
       "      <td>NaN</td>\n",
       "      <td>NaN</td>\n",
       "      <td>999999.0</td>\n",
       "      <td>0</td>\n",
       "      <td>Size XL but fits more like a L Joggers L</td>\n",
       "    </tr>\n",
       "    <tr>\n",
       "      <th>...</th>\n",
       "      <td>...</td>\n",
       "      <td>...</td>\n",
       "      <td>...</td>\n",
       "      <td>...</td>\n",
       "      <td>...</td>\n",
       "      <td>...</td>\n",
       "      <td>...</td>\n",
       "      <td>...</td>\n",
       "    </tr>\n",
       "    <tr>\n",
       "      <th>687360</th>\n",
       "      <td>687360</td>\n",
       "      <td>Small Purse</td>\n",
       "      <td>3</td>\n",
       "      <td>NaN</td>\n",
       "      <td>NaN</td>\n",
       "      <td>999999.0</td>\n",
       "      <td>0</td>\n",
       "      <td>This is a super cute little cream and navy blu...</td>\n",
       "    </tr>\n",
       "    <tr>\n",
       "      <th>687829</th>\n",
       "      <td>687829</td>\n",
       "      <td>For theweirdone</td>\n",
       "      <td>1</td>\n",
       "      <td>NaN</td>\n",
       "      <td>NaN</td>\n",
       "      <td>999999.0</td>\n",
       "      <td>1</td>\n",
       "      <td>No description yet</td>\n",
       "    </tr>\n",
       "    <tr>\n",
       "      <th>688055</th>\n",
       "      <td>688055</td>\n",
       "      <td>Cat Toy</td>\n",
       "      <td>2</td>\n",
       "      <td>NaN</td>\n",
       "      <td>NaN</td>\n",
       "      <td>999999.0</td>\n",
       "      <td>0</td>\n",
       "      <td>Brand new conditions Entertains your cat with ...</td>\n",
       "    </tr>\n",
       "    <tr>\n",
       "      <th>688200</th>\n",
       "      <td>688200</td>\n",
       "      <td>Go Diego Go Club house Set</td>\n",
       "      <td>3</td>\n",
       "      <td>NaN</td>\n",
       "      <td>Nickelodeon</td>\n",
       "      <td>999999.0</td>\n",
       "      <td>0</td>\n",
       "      <td>Go Diego go play set bundle includes everythin...</td>\n",
       "    </tr>\n",
       "    <tr>\n",
       "      <th>688347</th>\n",
       "      <td>688347</td>\n",
       "      <td>Lot of 60 Digimon Collectible Cards</td>\n",
       "      <td>3</td>\n",
       "      <td>NaN</td>\n",
       "      <td>NaN</td>\n",
       "      <td>999999.0</td>\n",
       "      <td>0</td>\n",
       "      <td>This lot of Digimon collectible cards has 60 c...</td>\n",
       "    </tr>\n",
       "    <tr>\n",
       "      <th>688500</th>\n",
       "      <td>688500</td>\n",
       "      <td>Lululemon Bag</td>\n",
       "      <td>3</td>\n",
       "      <td>NaN</td>\n",
       "      <td>NaN</td>\n",
       "      <td>999999.0</td>\n",
       "      <td>0</td>\n",
       "      <td>Lululemon bag. Pre-loved with noticeable stain...</td>\n",
       "    </tr>\n",
       "    <tr>\n",
       "      <th>688742</th>\n",
       "      <td>688742</td>\n",
       "      <td>Polk-a-dot Long Sleeve Shirt</td>\n",
       "      <td>2</td>\n",
       "      <td>NaN</td>\n",
       "      <td>NaN</td>\n",
       "      <td>999999.0</td>\n",
       "      <td>0</td>\n",
       "      <td>The material is thicker than a normal short bu...</td>\n",
       "    </tr>\n",
       "    <tr>\n",
       "      <th>688800</th>\n",
       "      <td>688800</td>\n",
       "      <td>Gun Holster</td>\n",
       "      <td>3</td>\n",
       "      <td>NaN</td>\n",
       "      <td>NaN</td>\n",
       "      <td>999999.0</td>\n",
       "      <td>1</td>\n",
       "      <td>Good condition. Didn't like the fill but it fi...</td>\n",
       "    </tr>\n",
       "    <tr>\n",
       "      <th>688835</th>\n",
       "      <td>688835</td>\n",
       "      <td>Tribal Bikini, Never Worn</td>\n",
       "      <td>2</td>\n",
       "      <td>NaN</td>\n",
       "      <td>NaN</td>\n",
       "      <td>999999.0</td>\n",
       "      <td>1</td>\n",
       "      <td>Brand new tribal bikini size xs,never worn. Ve...</td>\n",
       "    </tr>\n",
       "    <tr>\n",
       "      <th>689208</th>\n",
       "      <td>689208</td>\n",
       "      <td>Piercing Hoops</td>\n",
       "      <td>1</td>\n",
       "      <td>NaN</td>\n",
       "      <td>NaN</td>\n",
       "      <td>999999.0</td>\n",
       "      <td>1</td>\n",
       "      <td>Never worn , for septum , nose , lip , cartled...</td>\n",
       "    </tr>\n",
       "    <tr>\n",
       "      <th>689257</th>\n",
       "      <td>689257</td>\n",
       "      <td>EM Cosmetics Lip Cloud and Eyeliner</td>\n",
       "      <td>2</td>\n",
       "      <td>NaN</td>\n",
       "      <td>NaN</td>\n",
       "      <td>999999.0</td>\n",
       "      <td>0</td>\n",
       "      <td>Only used once to swatch. Will come in origina...</td>\n",
       "    </tr>\n",
       "    <tr>\n",
       "      <th>689301</th>\n",
       "      <td>689301</td>\n",
       "      <td>BC Turq Jar for Elizabeth</td>\n",
       "      <td>3</td>\n",
       "      <td>NaN</td>\n",
       "      <td>NaN</td>\n",
       "      <td>999999.0</td>\n",
       "      <td>0</td>\n",
       "      <td>BC turquoisr jar for Elizabeth</td>\n",
       "    </tr>\n",
       "    <tr>\n",
       "      <th>689532</th>\n",
       "      <td>689532</td>\n",
       "      <td>Snoopy Fidget Spinner</td>\n",
       "      <td>1</td>\n",
       "      <td>NaN</td>\n",
       "      <td>NaN</td>\n",
       "      <td>999999.0</td>\n",
       "      <td>1</td>\n",
       "      <td>Message for bundles for lower prices</td>\n",
       "    </tr>\n",
       "    <tr>\n",
       "      <th>689569</th>\n",
       "      <td>689569</td>\n",
       "      <td>FREE SHIP! 3 months Bravecto - 44-88lbs</td>\n",
       "      <td>1</td>\n",
       "      <td>NaN</td>\n",
       "      <td>NaN</td>\n",
       "      <td>999999.0</td>\n",
       "      <td>1</td>\n",
       "      <td>Brand new - never opened! Bravecto flea and ti...</td>\n",
       "    </tr>\n",
       "    <tr>\n",
       "      <th>689723</th>\n",
       "      <td>689723</td>\n",
       "      <td>Biosilk 2 pcs for price of one!</td>\n",
       "      <td>1</td>\n",
       "      <td>NaN</td>\n",
       "      <td>NaN</td>\n",
       "      <td>999999.0</td>\n",
       "      <td>1</td>\n",
       "      <td>brand new in plastic sealed silk therapy 5.64 ...</td>\n",
       "    </tr>\n",
       "    <tr>\n",
       "      <th>689732</th>\n",
       "      <td>689732</td>\n",
       "      <td>Warby Parker \"Ames\" glasses</td>\n",
       "      <td>1</td>\n",
       "      <td>NaN</td>\n",
       "      <td>Warby Parker</td>\n",
       "      <td>999999.0</td>\n",
       "      <td>1</td>\n",
       "      <td>Brand new Warby Parker Ames whiskey tortoise g...</td>\n",
       "    </tr>\n",
       "    <tr>\n",
       "      <th>689870</th>\n",
       "      <td>689870</td>\n",
       "      <td>20. Clean empty lush containers</td>\n",
       "      <td>1</td>\n",
       "      <td>NaN</td>\n",
       "      <td>Lush</td>\n",
       "      <td>999999.0</td>\n",
       "      <td>0</td>\n",
       "      <td>20. Clean empty lush containers</td>\n",
       "    </tr>\n",
       "    <tr>\n",
       "      <th>690179</th>\n",
       "      <td>690179</td>\n",
       "      <td>Batman and Mega Man Dorbz</td>\n",
       "      <td>1</td>\n",
       "      <td>NaN</td>\n",
       "      <td>NaN</td>\n",
       "      <td>999999.0</td>\n",
       "      <td>0</td>\n",
       "      <td>Im selling all 6 dorbz, the mega man set inclu...</td>\n",
       "    </tr>\n",
       "    <tr>\n",
       "      <th>690470</th>\n",
       "      <td>690470</td>\n",
       "      <td>BUBDLE FOR REBECCA</td>\n",
       "      <td>2</td>\n",
       "      <td>NaN</td>\n",
       "      <td>Stamped</td>\n",
       "      <td>999999.0</td>\n",
       "      <td>1</td>\n",
       "      <td>1. Sterling pendant w/pearl. 20.00 2. 14k/Ster...</td>\n",
       "    </tr>\n",
       "    <tr>\n",
       "      <th>690523</th>\n",
       "      <td>690523</td>\n",
       "      <td>Gillette fusion5 proglide 4 pack</td>\n",
       "      <td>1</td>\n",
       "      <td>NaN</td>\n",
       "      <td>Gillette</td>\n",
       "      <td>999999.0</td>\n",
       "      <td>1</td>\n",
       "      <td>Brand new never opened</td>\n",
       "    </tr>\n",
       "    <tr>\n",
       "      <th>690583</th>\n",
       "      <td>690583</td>\n",
       "      <td>Gingham Scrub top - XS</td>\n",
       "      <td>2</td>\n",
       "      <td>NaN</td>\n",
       "      <td>NaN</td>\n",
       "      <td>999999.0</td>\n",
       "      <td>0</td>\n",
       "      <td>So cute! Black and white gingham scrub top, si...</td>\n",
       "    </tr>\n",
       "    <tr>\n",
       "      <th>690691</th>\n",
       "      <td>690691</td>\n",
       "      <td>OLD NAVY Culotte Shorts. Girls 10/12</td>\n",
       "      <td>3</td>\n",
       "      <td>NaN</td>\n",
       "      <td>Old Navy</td>\n",
       "      <td>999999.0</td>\n",
       "      <td>0</td>\n",
       "      <td>Cute silky culotte style shorts in very good c...</td>\n",
       "    </tr>\n",
       "    <tr>\n",
       "      <th>690728</th>\n",
       "      <td>690728</td>\n",
       "      <td>Ultima and BHW</td>\n",
       "      <td>3</td>\n",
       "      <td>NaN</td>\n",
       "      <td>NaN</td>\n",
       "      <td>999999.0</td>\n",
       "      <td>1</td>\n",
       "      <td>No description yet</td>\n",
       "    </tr>\n",
       "    <tr>\n",
       "      <th>691220</th>\n",
       "      <td>691220</td>\n",
       "      <td>Nintendo Ds</td>\n",
       "      <td>2</td>\n",
       "      <td>NaN</td>\n",
       "      <td>NaN</td>\n",
       "      <td>999999.0</td>\n",
       "      <td>0</td>\n",
       "      <td>No description yet</td>\n",
       "    </tr>\n",
       "    <tr>\n",
       "      <th>691311</th>\n",
       "      <td>691311</td>\n",
       "      <td>Motherhood Maternity Medium T Shirt</td>\n",
       "      <td>3</td>\n",
       "      <td>NaN</td>\n",
       "      <td>NaN</td>\n",
       "      <td>999999.0</td>\n",
       "      <td>0</td>\n",
       "      <td>Long sleeve maternity t shirt.</td>\n",
       "    </tr>\n",
       "    <tr>\n",
       "      <th>691354</th>\n",
       "      <td>691354</td>\n",
       "      <td>NEXGARD NIB FREE SHIP 24.1-60.0 Pounds</td>\n",
       "      <td>1</td>\n",
       "      <td>NaN</td>\n",
       "      <td>Frontline</td>\n",
       "      <td>999999.0</td>\n",
       "      <td>1</td>\n",
       "      <td>No defects! Brand new</td>\n",
       "    </tr>\n",
       "    <tr>\n",
       "      <th>691513</th>\n",
       "      <td>691513</td>\n",
       "      <td>Black Romper (XL)</td>\n",
       "      <td>2</td>\n",
       "      <td>NaN</td>\n",
       "      <td>NaN</td>\n",
       "      <td>999999.0</td>\n",
       "      <td>0</td>\n",
       "      <td>- Thin Straps - Cinched Waist - Scalloped Edge...</td>\n",
       "    </tr>\n",
       "    <tr>\n",
       "      <th>691661</th>\n",
       "      <td>691661</td>\n",
       "      <td>FREE SHIP burgundy and lace crop top</td>\n",
       "      <td>2</td>\n",
       "      <td>NaN</td>\n",
       "      <td>Staring at Stars</td>\n",
       "      <td>999999.0</td>\n",
       "      <td>1</td>\n",
       "      <td>Super adorable velvet top from urban. Xs, grea...</td>\n",
       "    </tr>\n",
       "    <tr>\n",
       "      <th>692179</th>\n",
       "      <td>692179</td>\n",
       "      <td>Small Randy</td>\n",
       "      <td>1</td>\n",
       "      <td>NaN</td>\n",
       "      <td>LuLaRoe</td>\n",
       "      <td>999999.0</td>\n",
       "      <td>0</td>\n",
       "      <td>Nwt</td>\n",
       "    </tr>\n",
       "    <tr>\n",
       "      <th>692746</th>\n",
       "      <td>692746</td>\n",
       "      <td>Women's North Face 3 in 1</td>\n",
       "      <td>3</td>\n",
       "      <td>NaN</td>\n",
       "      <td>The North Face</td>\n",
       "      <td>999999.0</td>\n",
       "      <td>0</td>\n",
       "      <td>Has some minor wear. But worth every penny. We...</td>\n",
       "    </tr>\n",
       "  </tbody>\n",
       "</table>\n",
       "<p>3058 rows × 8 columns</p>\n",
       "</div>"
      ],
      "text/plain": [
       "        test_id                                      name  item_condition_id  \\\n",
       "217         217                    Lularoe XS Carly Dress                  3   \n",
       "555         555  Victoria's Secret VerySexy Touch Perfume                  2   \n",
       "702         702          Men's All Black Low Top Converse                  3   \n",
       "1110       1110  92 Polly Pocket Jewel Palace/Ice Kingdom                  3   \n",
       "1476       1476               Bundle for Vanessa Wieseler                  1   \n",
       "1586       1586                         Mens Shake Weight                  2   \n",
       "1983       1983                   Knee Sleeves Workout XS                  1   \n",
       "2317       2317                   Honeywell Money Lockbox                  3   \n",
       "2376       2376  #84 Wholesale Lot Workout Clothing 30 Pc                  3   \n",
       "2508       2508                      Hollister sweatpants                  3   \n",
       "2545       2545            Snow White & the Seven Dwarves                  3   \n",
       "2797       2797               Nice Black Purse With Strap                  2   \n",
       "2848       2848                        3 FOR [rm] bundle!                  1   \n",
       "2936       2936                   Juicy Couture 2T outfit                  1   \n",
       "2937       2937                             Nurse Costume                  2   \n",
       "3128       3128                           2 sushi patches                  1   \n",
       "3184       3184             (5) Nike boys t-shirts size 6                  4   \n",
       "3977       3977                      Retro Jordan Grape 5                  3   \n",
       "4083       4083                     Reserved SLIME Bundle                  1   \n",
       "4655       4655                     HOLLISTER JEAN SHORTS                  3   \n",
       "4751       4751                Boyfriend Sweatpants- Thin                  3   \n",
       "4887       4887                        Bundle For 2 Items                  1   \n",
       "6102       6102              Legacy Power Rangers Morpher                  3   \n",
       "6304       6304                  New White Converse Shoes                  2   \n",
       "6926       6926           New L'orÃ©al Mascara & Eyeliner                  1   \n",
       "7004       7004                  Thirty One Bag With Bow!                  3   \n",
       "7016       7016                    Knit Button Boot Cuffs                  1   \n",
       "7301       7301     ON HOLD** Pandora crown silver and cz                  2   \n",
       "7345       7345              Purple and Gold \"A\" Bookmark                  3   \n",
       "7396       7396       Cute olive green hoodie and joggers                  3   \n",
       "...         ...                                       ...                ...   \n",
       "687360   687360                               Small Purse                  3   \n",
       "687829   687829                           For theweirdone                  1   \n",
       "688055   688055                                   Cat Toy                  2   \n",
       "688200   688200                Go Diego Go Club house Set                  3   \n",
       "688347   688347       Lot of 60 Digimon Collectible Cards                  3   \n",
       "688500   688500                             Lululemon Bag                  3   \n",
       "688742   688742              Polk-a-dot Long Sleeve Shirt                  2   \n",
       "688800   688800                               Gun Holster                  3   \n",
       "688835   688835                 Tribal Bikini, Never Worn                  2   \n",
       "689208   689208                            Piercing Hoops                  1   \n",
       "689257   689257       EM Cosmetics Lip Cloud and Eyeliner                  2   \n",
       "689301   689301                 BC Turq Jar for Elizabeth                  3   \n",
       "689532   689532                     Snoopy Fidget Spinner                  1   \n",
       "689569   689569   FREE SHIP! 3 months Bravecto - 44-88lbs                  1   \n",
       "689723   689723           Biosilk 2 pcs for price of one!                  1   \n",
       "689732   689732               Warby Parker \"Ames\" glasses                  1   \n",
       "689870   689870           20. Clean empty lush containers                  1   \n",
       "690179   690179                 Batman and Mega Man Dorbz                  1   \n",
       "690470   690470                        BUBDLE FOR REBECCA                  2   \n",
       "690523   690523          Gillette fusion5 proglide 4 pack                  1   \n",
       "690583   690583                    Gingham Scrub top - XS                  2   \n",
       "690691   690691      OLD NAVY Culotte Shorts. Girls 10/12                  3   \n",
       "690728   690728                            Ultima and BHW                  3   \n",
       "691220   691220                               Nintendo Ds                  2   \n",
       "691311   691311       Motherhood Maternity Medium T Shirt                  3   \n",
       "691354   691354    NEXGARD NIB FREE SHIP 24.1-60.0 Pounds                  1   \n",
       "691513   691513                         Black Romper (XL)                  2   \n",
       "691661   691661      FREE SHIP burgundy and lace crop top                  2   \n",
       "692179   692179                               Small Randy                  1   \n",
       "692746   692746                 Women's North Face 3 in 1                  3   \n",
       "\n",
       "       category_name         brand_name     price  shipping  \\\n",
       "217              NaN            LuLaRoe  999999.0         0   \n",
       "555              NaN  Victoria's Secret  999999.0         0   \n",
       "702              NaN           Converse  999999.0         0   \n",
       "1110             NaN           MattelÂ®  999999.0         0   \n",
       "1476             NaN              Avent  999999.0         0   \n",
       "1586             NaN                NaN  999999.0         0   \n",
       "1983             NaN                NaN  999999.0         0   \n",
       "2317             NaN                NaN  999999.0         0   \n",
       "2376             NaN                NaN  999999.0         0   \n",
       "2508             NaN          Hollister  999999.0         0   \n",
       "2545             NaN       Fisher-Price  999999.0         0   \n",
       "2797             NaN                NaN  999999.0         0   \n",
       "2848             NaN                NaN  999999.0         0   \n",
       "2936             NaN      Juicy Couture  999999.0         0   \n",
       "2937             NaN                NaN  999999.0         1   \n",
       "3128             NaN                NaN  999999.0         1   \n",
       "3184             NaN               Nike  999999.0         0   \n",
       "3977             NaN            Jordans  999999.0         1   \n",
       "4083             NaN             Elmers  999999.0         1   \n",
       "4655             NaN                NaN  999999.0         0   \n",
       "4751             NaN               PINK  999999.0         0   \n",
       "4887             NaN                NaN  999999.0         0   \n",
       "6102             NaN             Bandai  999999.0         0   \n",
       "6304             NaN           Converse  999999.0         0   \n",
       "6926             NaN            L'Oreal  999999.0         1   \n",
       "7004             NaN                NaN  999999.0         0   \n",
       "7016             NaN                NaN  999999.0         1   \n",
       "7301             NaN            PANDORA  999999.0         1   \n",
       "7345             NaN                NaN  999999.0         0   \n",
       "7396             NaN                NaN  999999.0         0   \n",
       "...              ...                ...       ...       ...   \n",
       "687360           NaN                NaN  999999.0         0   \n",
       "687829           NaN                NaN  999999.0         1   \n",
       "688055           NaN                NaN  999999.0         0   \n",
       "688200           NaN        Nickelodeon  999999.0         0   \n",
       "688347           NaN                NaN  999999.0         0   \n",
       "688500           NaN                NaN  999999.0         0   \n",
       "688742           NaN                NaN  999999.0         0   \n",
       "688800           NaN                NaN  999999.0         1   \n",
       "688835           NaN                NaN  999999.0         1   \n",
       "689208           NaN                NaN  999999.0         1   \n",
       "689257           NaN                NaN  999999.0         0   \n",
       "689301           NaN                NaN  999999.0         0   \n",
       "689532           NaN                NaN  999999.0         1   \n",
       "689569           NaN                NaN  999999.0         1   \n",
       "689723           NaN                NaN  999999.0         1   \n",
       "689732           NaN       Warby Parker  999999.0         1   \n",
       "689870           NaN               Lush  999999.0         0   \n",
       "690179           NaN                NaN  999999.0         0   \n",
       "690470           NaN            Stamped  999999.0         1   \n",
       "690523           NaN           Gillette  999999.0         1   \n",
       "690583           NaN                NaN  999999.0         0   \n",
       "690691           NaN           Old Navy  999999.0         0   \n",
       "690728           NaN                NaN  999999.0         1   \n",
       "691220           NaN                NaN  999999.0         0   \n",
       "691311           NaN                NaN  999999.0         0   \n",
       "691354           NaN          Frontline  999999.0         1   \n",
       "691513           NaN                NaN  999999.0         0   \n",
       "691661           NaN   Staring at Stars  999999.0         1   \n",
       "692179           NaN            LuLaRoe  999999.0         0   \n",
       "692746           NaN     The North Face  999999.0         0   \n",
       "\n",
       "                                         item_description  \n",
       "217     XS Lularoe Carly Dress. Has peach tone color s...  \n",
       "555                                    No description yet  \n",
       "702     Men's Converse, size 11, all black. They have ...  \n",
       "1110    Set of 2. In good condition. Both are complete...  \n",
       "1476    Avent Bottle Warmer Brand New Open Package [rm...  \n",
       "1586                                   No description yet  \n",
       "1983                              XS brand new in package  \n",
       "2317                                   No description yet  \n",
       "2376    Bin Pickers from YT wholesale lot #84. All wom...  \n",
       "2508    Juniors small in great condition. Very soft, c...  \n",
       "2545    Fisher-Price Little People Snow White and the ...  \n",
       "2797    Very nice Forever21 black purse with removable...  \n",
       "2848    Brand new! Grey cotton crop top Two different ...  \n",
       "2936                    Nwt Juicy Couture girls 2T outfit  \n",
       "2937                                           Size small  \n",
       "3128                                        fast shipping  \n",
       "3184    These have been worn, some of the lettering on...  \n",
       "3977    Excellent condition. Only worn a couple times....  \n",
       "4083       4 oz. Supernova Slime 4 oz. White Butter Slime  \n",
       "4655                                   No description yet  \n",
       "4751                                   No description yet  \n",
       "4887    Includes nine new sheets size 12*10 Includes a...  \n",
       "6102    -full metal morpher including all pieces -take...  \n",
       "6304              â€¢ NWOT â€¢ Never worn â€¢ Super clean  \n",
       "6926    Brand New! L'OrÃ©al voluminous black mascara &...  \n",
       "7004    I have a lot of likes on this one so get it wh...  \n",
       "7016    3 pairs new in package/never worn 1 pair grey ...  \n",
       "7301    Authentic Pandora silver crown charm. May be u...  \n",
       "7345    Paid [rm] for this item at Barnes and noble. G...  \n",
       "7396             Size XL but fits more like a L Joggers L  \n",
       "...                                                   ...  \n",
       "687360  This is a super cute little cream and navy blu...  \n",
       "687829                                 No description yet  \n",
       "688055  Brand new conditions Entertains your cat with ...  \n",
       "688200  Go Diego go play set bundle includes everythin...  \n",
       "688347  This lot of Digimon collectible cards has 60 c...  \n",
       "688500  Lululemon bag. Pre-loved with noticeable stain...  \n",
       "688742  The material is thicker than a normal short bu...  \n",
       "688800  Good condition. Didn't like the fill but it fi...  \n",
       "688835  Brand new tribal bikini size xs,never worn. Ve...  \n",
       "689208  Never worn , for septum , nose , lip , cartled...  \n",
       "689257  Only used once to swatch. Will come in origina...  \n",
       "689301                     BC turquoisr jar for Elizabeth  \n",
       "689532               Message for bundles for lower prices  \n",
       "689569  Brand new - never opened! Bravecto flea and ti...  \n",
       "689723  brand new in plastic sealed silk therapy 5.64 ...  \n",
       "689732  Brand new Warby Parker Ames whiskey tortoise g...  \n",
       "689870                    20. Clean empty lush containers  \n",
       "690179  Im selling all 6 dorbz, the mega man set inclu...  \n",
       "690470  1. Sterling pendant w/pearl. 20.00 2. 14k/Ster...  \n",
       "690523                             Brand new never opened  \n",
       "690583  So cute! Black and white gingham scrub top, si...  \n",
       "690691  Cute silky culotte style shorts in very good c...  \n",
       "690728                                 No description yet  \n",
       "691220                                 No description yet  \n",
       "691311                     Long sleeve maternity t shirt.  \n",
       "691354                              No defects! Brand new  \n",
       "691513  - Thin Straps - Cinched Waist - Scalloped Edge...  \n",
       "691661  Super adorable velvet top from urban. Xs, grea...  \n",
       "692179                                                Nwt  \n",
       "692746  Has some minor wear. But worth every penny. We...  \n",
       "\n",
       "[3058 rows x 8 columns]"
      ]
     },
     "execution_count": 608,
     "metadata": {},
     "output_type": "execute_result"
    }
   ],
   "source": [
    "test_df_price"
   ]
  },
  {
   "cell_type": "code",
   "execution_count": 96,
   "metadata": {
    "collapsed": true
   },
   "outputs": [],
   "source": [
    "#category_ref_df['name']"
   ]
  },
  {
   "cell_type": "code",
   "execution_count": 498,
   "metadata": {},
   "outputs": [
    {
     "data": {
      "text/plain": [
       "3"
      ]
     },
     "execution_count": 498,
     "metadata": {},
     "output_type": "execute_result"
    }
   ],
   "source": [
    "a = [1, 2, 3, 4, 3, 4, 9, 8]\n",
    "b = [9, 8, 7, 6, 5, 5, 5, 1, 1]\n",
    "len(list(set(a) & set(b)))\n"
   ]
  },
  {
   "cell_type": "code",
   "execution_count": 584,
   "metadata": {
    "collapsed": true
   },
   "outputs": [],
   "source": [
    "b_x = train_df['brand_name']\n",
    "b_y = test_df['brand_name']\n",
    "\n",
    "brands = b_x\n",
    "brands = brands.append(b_y)"
   ]
  },
  {
   "cell_type": "code",
   "execution_count": 585,
   "metadata": {
    "collapsed": true
   },
   "outputs": [],
   "source": [
    "brands = pd.DataFrame(brands)#"
   ]
  },
  {
   "cell_type": "code",
   "execution_count": 586,
   "metadata": {
    "collapsed": true
   },
   "outputs": [],
   "source": [
    "brands = brands.dropna(axis=0, how='any').drop_duplicates(subset=None, keep='first', inplace=False)"
   ]
  },
  {
   "cell_type": "code",
   "execution_count": 587,
   "metadata": {
    "collapsed": true
   },
   "outputs": [],
   "source": [
    "def removeDuplbrand(text):\n",
    "    #print(text)\n",
    "    list_ = re.sub('[^A-Za-z ]+', '',text)\n",
    "    list_val = list_\n",
    "    return list_val\n",
    "   "
   ]
  },
  {
   "cell_type": "code",
   "execution_count": 590,
   "metadata": {
    "collapsed": true
   },
   "outputs": [],
   "source": [
    "brands['brand_name'] = list(brands['brand_name'].apply(lambda x: removeDuplbrand(x)))"
   ]
  },
  {
   "cell_type": "code",
   "execution_count": 592,
   "metadata": {
    "collapsed": true
   },
   "outputs": [],
   "source": [
    "#brands"
   ]
  },
  {
   "cell_type": "code",
   "execution_count": 775,
   "metadata": {
    "collapsed": true
   },
   "outputs": [],
   "source": [
    "def findmatch(list_v):\n",
    "    wval = list_v['category_name']#'Men\\'s All Black Low Top Converse'#'Lularoe XS Carly Dress'#'(5) Nike boys t-shirts size 6'##'Bundle for Vanessa Wieseler\n",
    "    wval = wval.lower().split(' ')\n",
    "    fnl = {}\n",
    "    fnl_list = {}\n",
    "    for index, row in category_ref_df.iterrows():\n",
    "        fnl[row['category_name']] = str(len(list(set(wval) & set(row['name']))))\n",
    "    for k,v in fnl.items():\n",
    "        if v == max(fnl.values()):\n",
    "            fnl_list[k] = v \n",
    "    if len(fnl_list) > 1:\n",
    "        return 'Other/Other/Other'\n",
    "    else:\n",
    "        for ke,va in fnl_list.items():\n",
    "            return str(ke)"
   ]
  },
  {
   "cell_type": "code",
   "execution_count": 703,
   "metadata": {
    "collapsed": true
   },
   "outputs": [],
   "source": [
    "def findmatchdesc(list_v):\n",
    "    wval = 'Lularoe XS Carly Dress'#'(5) Nike boys t-shirts size 6'#'Lularoe XS Carly Dress'#''#'Bundle for Vanessa Wieseler\n",
    "    wval = wval.lower().split(' ')\n",
    "    fnl = {}\n",
    "    fnl_list = {}\n",
    "    for index, row in category_des_ref_df.iterrows():\n",
    "        fnl[row['category_name']] = str(len(list(set(wval) & set(row['item_description']))))\n",
    "    for k,v in fnl.items():\n",
    "        if v == max(fnl.values()):\n",
    "            fnl_list[k] = v \n",
    "    return fnl_list"
   ]
  },
  {
   "cell_type": "code",
   "execution_count": 773,
   "metadata": {
    "collapsed": true
   },
   "outputs": [],
   "source": [
    "list_v = ''\n",
    "result_df = findmatch(list_v)#)"
   ]
  },
  {
   "cell_type": "code",
   "execution_count": 704,
   "metadata": {
    "collapsed": true
   },
   "outputs": [],
   "source": [
    "result_df = findmatchdesc(category_des_ref_df)#)"
   ]
  },
  {
   "cell_type": "code",
   "execution_count": 774,
   "metadata": {},
   "outputs": [
    {
     "data": {
      "text/plain": [
       "'Other/Other/Other'"
      ]
     },
     "execution_count": 774,
     "metadata": {},
     "output_type": "execute_result"
    }
   ],
   "source": [
    "result_df"
   ]
  },
  {
   "cell_type": "code",
   "execution_count": 755,
   "metadata": {},
   "outputs": [
    {
     "name": "stdout",
     "output_type": "stream",
     "text": [
      "['kids', 'boys', '', 'bottoms', 'hollister', 'sweatpants']\n",
      "['kids', 'boys', '', 'coats', '', 'jackets', 'hollister', 'sweatpants']\n",
      "['kids', 'girls', '', 'jeans', 'hollister', 'sweatpants']\n",
      "['kids', 'girls', '', 'other', 'hollister', 'sweatpants']\n",
      "['kids', 'girls', '', 'tops', '', 'tshirts', 'hollister', 'sweatpants']\n",
      "['men', 'athletic', 'apparel', 'pants', 'hollister', 'sweatpants']\n",
      "['men', 'athletic', 'apparel', 'shirts', '', 'tops', 'hollister', 'sweatpants']\n",
      "['men', 'athletic', 'apparel', 'shorts', 'hollister', 'sweatpants']\n",
      "['men', 'athletic', 'apparel', 'tracksuits', '', 'sweats', 'hollister', 'sweatpants']\n",
      "['men', 'jeans', 'classic', 'straight', 'leg', 'hollister', 'sweatpants']\n",
      "['men', 'pants', 'casual', 'pants', 'hollister', 'sweatpants']\n",
      "['men', 'pants', 'other', 'hollister', 'sweatpants']\n",
      "['men', 'sweats', '', 'hoodies', 'hoodie', 'hollister', 'sweatpants']\n",
      "['men', 'sweats', '', 'hoodies', 'other', 'hollister', 'sweatpants']\n",
      "['men', 'sweats', '', 'hoodies', 'track', '', 'sweat', 'pants', 'hollister', 'sweatpants']\n",
      "['men', 'tops', 'tshirts', 'hollister', 'sweatpants']\n",
      "['other', 'other', 'other', 'hollister', 'sweatpants']\n",
      "['sports', '', 'outdoors', 'exercise', 'yoga', '', 'pilates', 'hollister', 'sweatpants']\n",
      "['women', 'athletic', 'apparel', 'shirts', '', 'tops', 'hollister', 'sweatpants']\n",
      "['women', 'athletic', 'apparel', 'shorts', 'hollister', 'sweatpants']\n",
      "['women', 'jeans', 'capri', 'cropped', 'hollister', 'sweatpants']\n",
      "['women', 'jeans', 'other', 'hollister', 'sweatpants']\n",
      "['women', 'jeans', 'slim', 'skinny', 'hollister', 'sweatpants']\n",
      "['women', 'jeans', 'straight', 'leg', 'hollister', 'sweatpants']\n",
      "['women', 'pants', 'capris', 'cropped', 'hollister', 'sweatpants']\n",
      "['women', 'pants', 'casual', 'pants', 'hollister', 'sweatpants']\n",
      "['women', 'pants', 'other', 'hollister', 'sweatpants']\n",
      "['women', 'shoes', 'boots', 'hollister', 'sweatpants']\n",
      "['women', 'sweaters', 'crewneck', 'hollister', 'sweatpants']\n",
      "['women', 'sweaters', 'hooded', 'hollister', 'sweatpants']\n",
      "['women', 'sweaters', 'other', 'hollister', 'sweatpants']\n",
      "['women', 'tops', '', 'blouses', 'knit', 'top', 'hollister', 'sweatpants']\n",
      "['women', 'tops', '', 'blouses', 'tshirts', 'hollister', 'sweatpants']\n",
      "['women', 'tops', '', 'blouses', 'tank', 'cami', 'hollister', 'sweatpants']\n",
      "Kids/Girls (4+)/Dresses 7\n",
      "Women/Athletic Apparel/Shirts & Tops 7\n",
      "Women/Dresses/Above Knee, Mini 7\n",
      "Women/Jewelry/Bracelets 7\n",
      "Women/Pants/Casual Pants 7\n",
      "Women/Sweaters/Other 7\n",
      "Women/Tops & Blouses/Blouse 7\n",
      "Women/Tops & Blouses/Other 7\n"
     ]
    }
   ],
   "source": [
    "com_list = []\n",
    "searchval = 'Hollister sweatpants'#'Men\\'s All Black Low Top Converse'#'Lularoe XS Carly Dress'\n",
    "for k,v in result_df.items():\n",
    "    com_list.append(k)\n",
    "\n",
    "categ_list = []\n",
    "\n",
    "for i in com_list:\n",
    "    categ = i+' '+searchval\n",
    "    categ = categ.replace('/',' ').lower()\n",
    "    categ = re.sub('[^A-Za-z ]+', '',categ)\n",
    "    categ = categ.replace('\\n','')\n",
    "    categ = categ.split(' ')\n",
    "    categ_list.append(categ)\n",
    "\n",
    "new_fnl ={}\n",
    "\n",
    "for ol in categ_list:\n",
    "    print(ol)\n",
    "    for index, row in category_des_ref_df.iterrows():\n",
    "        new_fnl[row['category_name']] = str(len(list(set(ol) & set(row['item_description']))))\n",
    "\n",
    "for k,v in new_fnl.items():\n",
    "    if v == max(new_fnl.values()):\n",
    "        print(k,v) \n",
    "        "
   ]
  },
  {
   "cell_type": "code",
   "execution_count": 748,
   "metadata": {},
   "outputs": [
    {
     "name": "stdout",
     "output_type": "stream",
     "text": [
      "['men', 'mens', 'accessories', 'backpacks', 'bags', '', 'briefcases', 'mens', 'all', 'black', 'low', 'top', 'converse']\n",
      "['men', 'mens', 'accessories', 'hats', 'mens', 'all', 'black', 'low', 'top', 'converse']\n",
      "['men', 'shoes', 'athletic', 'mens', 'all', 'black', 'low', 'top', 'converse']\n",
      "['men', 'shoes', 'fashion', 'sneakers', 'mens', 'all', 'black', 'low', 'top', 'converse']\n",
      "['men', 'sweats', '', 'hoodies', 'hoodie', 'mens', 'all', 'black', 'low', 'top', 'converse']\n",
      "Kids/Boys (4+)/Other 5\n",
      "Kids/Boys (4+)/Shoes 5\n",
      "Kids/Boys 0-24 Mos/Shoes 5\n",
      "Kids/Boys 2T-5T/Bottoms 5\n",
      "Kids/Boys 2T-5T/Shoes 5\n",
      "Kids/Boys 2T-5T/Tops & T-Shirts 5\n",
      "Kids/Girls (4+)/Coats & Jackets 5\n",
      "Kids/Girls (4+)/Other 5\n",
      "Kids/Girls 0-24 Mos/Tops & T-Shirts 5\n",
      "Kids/Girls 2T-5T/Bottoms 5\n",
      "Kids/Toys/Action Figures & Statues 5\n",
      "Men/Athletic Apparel/Jackets 5\n",
      "Men/Coats & Jackets/Vest 5\n",
      "Men/Coats & Jackets/Windbreaker 5\n",
      "Men/Men's Accessories/Hats 5\n",
      "Men/Sweats & Hoodies/Hoodie 5\n",
      "Men/Tops/Other 5\n",
      "Men/Tops/T-shirts 5\n",
      "Men/Tops/Tank 5\n",
      "Other/Other/Other 5\n",
      "Sports & Outdoors/Fan Shop/MLB 5\n",
      "Sports & Outdoors/Fan Shop/NBA 5\n",
      "Sports & Outdoors/Fan Shop/NCAA 5\n",
      "Sports & Outdoors/Fan Shop/NFL 5\n",
      "Women/Athletic Apparel/Other 5\n",
      "Women/Athletic Apparel/Pants, Tights, Leggings 5\n",
      "Women/Athletic Apparel/Shorts 5\n",
      "Women/Athletic Apparel/Socks 5\n",
      "Women/Coats & Jackets/Fleece Jacket 5\n",
      "Women/Coats & Jackets/Vest 5\n",
      "Women/Dresses/Above Knee, Mini 5\n",
      "Women/Dresses/Full-Length 5\n",
      "Women/Jeans/Slim, Skinny 5\n",
      "Women/Jewelry/Bracelets 5\n",
      "Women/Pants/Other 5\n",
      "Women/Shoes/Athletic 5\n",
      "Women/Shoes/Boots 5\n",
      "Women/Shoes/Sandals 5\n",
      "Women/Skirts/Mini 5\n",
      "Women/Sweaters/Cardigan 5\n",
      "Women/Sweaters/Other 5\n",
      "Women/Tops & Blouses/Knit Top 5\n",
      "Women/Tops & Blouses/Other 5\n",
      "Women/Underwear/Panties 5\n",
      "Women/Women's Accessories/Hats 5\n",
      "Women/Women's Accessories/Other 5\n",
      "Women/Women's Handbags/Totes & Shoppers 5\n"
     ]
    }
   ],
   "source": [
    "tcateg_list = [['men', 'mens', 'accessories', 'backpacks', 'bags', '', 'briefcases', 'mens', 'all', 'black', 'low', 'top', 'converse'],\n",
    "['men', 'mens', 'accessories', 'hats', 'mens', 'all', 'black', 'low', 'top', 'converse'],\n",
    "['men', 'shoes', 'athletic', 'mens', 'all', 'black', 'low', 'top', 'converse'],\n",
    "['men', 'shoes', 'fashion', 'sneakers', 'mens', 'all', 'black', 'low', 'top', 'converse'],\n",
    "['men', 'sweats', '', 'hoodies', 'hoodie', 'mens', 'all', 'black', 'low', 'top', 'converse']]\n",
    "\n",
    "tnew_fnl = {}\n",
    "for ol in tcateg_list:\n",
    "    print(ol)\n",
    "    for index, row in category_des_ref_df.iterrows():\n",
    "        tnew_fnl[row['category_name']] = str(len(list(set(ol) & set(row['item_description']))))\n",
    "\n",
    "for k,v in tnew_fnl.items():\n",
    "    if v == str(int(max(tnew_fnl.values()))-1):\n",
    "        print(k,v)         "
   ]
  },
  {
   "cell_type": "code",
   "execution_count": 759,
   "metadata": {},
   "outputs": [
    {
     "name": "stdout",
     "output_type": "stream",
     "text": [
      "Beauty/Fragrance/Women 5\n",
      "Beauty/Makeup/Eyes 5\n",
      "Beauty/Makeup/Face 5\n",
      "Beauty/Makeup/Nails 5\n",
      "Electronics/Cell Phones & Accessories/Cases, Covers & Skins 5\n",
      "Handmade/Clothing/Costume 5\n",
      "Handmade/Clothing/Lingerie 5\n",
      "Home/Seasonal DÃ©cor/Halloween 5\n",
      "Kids/Boys (4+)/Coats & Jackets 5\n",
      "Kids/Boys (4+)/Top & T-shirts 5\n",
      "Kids/Boys 0-24 Mos/One-Pieces 5\n",
      "Kids/Boys 2T-5T/Shoes 5\n",
      "Kids/Girls (4+)/Coats & Jackets 5\n",
      "Kids/Girls (4+)/Jeans 5\n",
      "Kids/Girls (4+)/Other 5\n",
      "Kids/Girls 0-24 Mos/One-Pieces 5\n",
      "Kids/Girls 2T-5T/One-Pieces 5\n",
      "Kids/Girls 2T-5T/Shoes 5\n",
      "Kids/Girls 2T-5T/Tops & T-Shirts 5\n",
      "Men/Athletic Apparel/Shirts & Tops 5\n",
      "Men/Athletic Apparel/Shorts 5\n",
      "Men/Men's Accessories/Hats 5\n",
      "Men/Sweaters/Crewneck 5\n",
      "Men/Sweats & Hoodies/Track & Sweat Pants 5\n",
      "Sports & Outdoors/Exercise/Fitness accessories 5\n",
      "Vintage & Collectibles/Antique/Collectibles 5\n",
      "Women/Athletic Apparel/Sports Bras 5\n",
      "Women/Coats & Jackets/Other 5\n",
      "Women/Coats & Jackets/Windbreaker 5\n",
      "Women/Dresses/Full-Length 5\n",
      "Women/Dresses/Knee-Length 5\n",
      "Women/Dresses/Mid-Calf 5\n",
      "Women/Maternity/Tops & Blouses 5\n",
      "Women/Pants/Capris, Cropped 5\n",
      "Women/Pants/Dress Pants 5\n",
      "Women/Pants/Other 5\n",
      "Women/Shoes/Athletic 5\n",
      "Women/Shoes/Loafers & Slip-Ons 5\n",
      "Women/Shoes/Pumps 5\n",
      "Women/Shoes/Sandals 5\n",
      "Women/Skirts/Maxi 5\n",
      "Women/Skirts/Mini 5\n",
      "Women/Skirts/Other 5\n",
      "Women/Suits & Blazers/Blazer 5\n",
      "Women/Suits & Blazers/Pant Suit 5\n",
      "Women/Sweaters/Cardigan 5\n",
      "Women/Sweaters/Cowl Neck 5\n",
      "Women/Sweaters/Crewneck 5\n",
      "Women/Sweaters/Turtleneck, Mock 5\n",
      "Women/Tops & Blouses/Button Down Shirt 5\n",
      "Women/Tops & Blouses/Knit Top 5\n",
      "Women/Tops & Blouses/Polo Shirt 5\n",
      "Women/Tops & Blouses/Tunic 5\n",
      "Women/Underwear/Other 5\n",
      "Women/Women's Accessories/Hair Accessories 5\n",
      "Women/Women's Accessories/Hats 5\n",
      "Women/Women's Accessories/Other 5\n",
      "Women/Women's Accessories/Wallets 5\n",
      "Women/Women's Handbags/Totes & Shoppers 5\n"
     ]
    }
   ],
   "source": [
    "for k,v in new_fnl.items():\n",
    "    if v == str(int(max(new_fnl.values()))-2):\n",
    "        print(k,v)"
   ]
  },
  {
   "cell_type": "code",
   "execution_count": null,
   "metadata": {
    "collapsed": true
   },
   "outputs": [],
   "source": []
  },
  {
   "cell_type": "code",
   "execution_count": null,
   "metadata": {
    "collapsed": true
   },
   "outputs": [],
   "source": []
  }
 ],
 "metadata": {
  "kernelspec": {
   "display_name": "Python 3",
   "language": "python",
   "name": "python3"
  },
  "language_info": {
   "codemirror_mode": {
    "name": "ipython",
    "version": 3
   },
   "file_extension": ".py",
   "mimetype": "text/x-python",
   "name": "python",
   "nbconvert_exporter": "python",
   "pygments_lexer": "ipython3",
   "version": "3.6.1"
  }
 },
 "nbformat": 4,
 "nbformat_minor": 2
}
